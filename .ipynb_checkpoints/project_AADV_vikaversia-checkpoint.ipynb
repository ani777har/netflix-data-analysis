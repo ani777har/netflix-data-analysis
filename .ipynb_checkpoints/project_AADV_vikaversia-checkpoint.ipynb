{
 "cells": [
  {
   "cell_type": "code",
   "execution_count": 7,
   "id": "ed7b066e",
   "metadata": {},
   "outputs": [],
   "source": [
    "import numpy as np\n",
    "import pandas as pd\n",
    "import seaborn as sns\n",
    "import matplotlib.pyplot as plt\n",
    "import matplotlib.cm as cm\n",
    "from wordcloud import WordCloud, STOPWORDS\n",
    "import itertools"
   ]
  },
  {
   "cell_type": "markdown",
   "id": "5078861b",
   "metadata": {},
   "source": [
    "# USHADRUTYUN CHDARDZNEL IM JARDAC ANGLERENIN SORRY NOT SORRY\n"
   ]
  },
  {
   "cell_type": "code",
   "execution_count": 116,
   "id": "0a9fa1d8",
   "metadata": {},
   "outputs": [],
   "source": [
    "df = pd.read_csv(\"./netflix_titles.csv\")\n",
    "df2 = pd.read_csv(\"./imdb_top_1000.csv\")\n",
    "pd.set_option('display.max_columns', None)"
   ]
  },
  {
   "cell_type": "markdown",
   "id": "f2076bb8",
   "metadata": {},
   "source": [
    "## getting basic information about our dataset"
   ]
  },
  {
   "cell_type": "code",
   "execution_count": 117,
   "id": "4ed6d30b",
   "metadata": {},
   "outputs": [
    {
     "data": {
      "text/plain": [
       "show_id            0\n",
       "type               0\n",
       "title              0\n",
       "director        2634\n",
       "cast             825\n",
       "country          831\n",
       "date_added        10\n",
       "release_year       0\n",
       "rating             4\n",
       "duration           3\n",
       "listed_in          0\n",
       "description        0\n",
       "dtype: int64"
      ]
     },
     "execution_count": 117,
     "metadata": {},
     "output_type": "execute_result"
    }
   ],
   "source": [
    "df.isnull().sum()"
   ]
  },
  {
   "cell_type": "markdown",
   "id": "e0b716ff",
   "metadata": {},
   "source": [
    "#### filling NaN values"
   ]
  },
  {
   "cell_type": "code",
   "execution_count": 118,
   "id": "fe5661f1",
   "metadata": {},
   "outputs": [
    {
     "data": {
      "text/html": [
       "<div>\n",
       "<style scoped>\n",
       "    .dataframe tbody tr th:only-of-type {\n",
       "        vertical-align: middle;\n",
       "    }\n",
       "\n",
       "    .dataframe tbody tr th {\n",
       "        vertical-align: top;\n",
       "    }\n",
       "\n",
       "    .dataframe thead th {\n",
       "        text-align: right;\n",
       "    }\n",
       "</style>\n",
       "<table border=\"1\" class=\"dataframe\">\n",
       "  <thead>\n",
       "    <tr style=\"text-align: right;\">\n",
       "      <th></th>\n",
       "      <th>show_id</th>\n",
       "      <th>type</th>\n",
       "      <th>title</th>\n",
       "      <th>director</th>\n",
       "      <th>cast</th>\n",
       "      <th>country</th>\n",
       "      <th>date_added</th>\n",
       "      <th>release_year</th>\n",
       "      <th>rating</th>\n",
       "      <th>duration</th>\n",
       "      <th>listed_in</th>\n",
       "      <th>description</th>\n",
       "    </tr>\n",
       "  </thead>\n",
       "  <tbody>\n",
       "    <tr>\n",
       "      <th>0</th>\n",
       "      <td>s1</td>\n",
       "      <td>Movie</td>\n",
       "      <td>Dick Johnson Is Dead</td>\n",
       "      <td>Kirsten Johnson</td>\n",
       "      <td>Unknown</td>\n",
       "      <td>United States</td>\n",
       "      <td>September 25, 2021</td>\n",
       "      <td>2020</td>\n",
       "      <td>PG-13</td>\n",
       "      <td>90 min</td>\n",
       "      <td>Documentaries</td>\n",
       "      <td>As her father nears the end of his life, filmm...</td>\n",
       "    </tr>\n",
       "    <tr>\n",
       "      <th>1</th>\n",
       "      <td>s2</td>\n",
       "      <td>TV Show</td>\n",
       "      <td>Blood &amp; Water</td>\n",
       "      <td>Unknown</td>\n",
       "      <td>Ama Qamata, Khosi Ngema, Gail Mabalane, Thaban...</td>\n",
       "      <td>South Africa</td>\n",
       "      <td>September 24, 2021</td>\n",
       "      <td>2021</td>\n",
       "      <td>TV-MA</td>\n",
       "      <td>2 Seasons</td>\n",
       "      <td>International TV Shows, TV Dramas, TV Mysteries</td>\n",
       "      <td>After crossing paths at a party, a Cape Town t...</td>\n",
       "    </tr>\n",
       "    <tr>\n",
       "      <th>2</th>\n",
       "      <td>s3</td>\n",
       "      <td>TV Show</td>\n",
       "      <td>Ganglands</td>\n",
       "      <td>Julien Leclercq</td>\n",
       "      <td>Sami Bouajila, Tracy Gotoas, Samuel Jouy, Nabi...</td>\n",
       "      <td>MISSING</td>\n",
       "      <td>September 24, 2021</td>\n",
       "      <td>2021</td>\n",
       "      <td>TV-MA</td>\n",
       "      <td>1 Season</td>\n",
       "      <td>Crime TV Shows, International TV Shows, TV Act...</td>\n",
       "      <td>To protect his family from a powerful drug lor...</td>\n",
       "    </tr>\n",
       "    <tr>\n",
       "      <th>3</th>\n",
       "      <td>s4</td>\n",
       "      <td>TV Show</td>\n",
       "      <td>Jailbirds New Orleans</td>\n",
       "      <td>Unknown</td>\n",
       "      <td>Unknown</td>\n",
       "      <td>MISSING</td>\n",
       "      <td>September 24, 2021</td>\n",
       "      <td>2021</td>\n",
       "      <td>TV-MA</td>\n",
       "      <td>1 Season</td>\n",
       "      <td>Docuseries, Reality TV</td>\n",
       "      <td>Feuds, flirtations and toilet talk go down amo...</td>\n",
       "    </tr>\n",
       "    <tr>\n",
       "      <th>4</th>\n",
       "      <td>s5</td>\n",
       "      <td>TV Show</td>\n",
       "      <td>Kota Factory</td>\n",
       "      <td>Unknown</td>\n",
       "      <td>Mayur More, Jitendra Kumar, Ranjan Raj, Alam K...</td>\n",
       "      <td>India</td>\n",
       "      <td>September 24, 2021</td>\n",
       "      <td>2021</td>\n",
       "      <td>TV-MA</td>\n",
       "      <td>2 Seasons</td>\n",
       "      <td>International TV Shows, Romantic TV Shows, TV ...</td>\n",
       "      <td>In a city of coaching centers known to train I...</td>\n",
       "    </tr>\n",
       "    <tr>\n",
       "      <th>...</th>\n",
       "      <td>...</td>\n",
       "      <td>...</td>\n",
       "      <td>...</td>\n",
       "      <td>...</td>\n",
       "      <td>...</td>\n",
       "      <td>...</td>\n",
       "      <td>...</td>\n",
       "      <td>...</td>\n",
       "      <td>...</td>\n",
       "      <td>...</td>\n",
       "      <td>...</td>\n",
       "      <td>...</td>\n",
       "    </tr>\n",
       "    <tr>\n",
       "      <th>8802</th>\n",
       "      <td>s8803</td>\n",
       "      <td>Movie</td>\n",
       "      <td>Zodiac</td>\n",
       "      <td>David Fincher</td>\n",
       "      <td>Mark Ruffalo, Jake Gyllenhaal, Robert Downey J...</td>\n",
       "      <td>United States</td>\n",
       "      <td>November 20, 2019</td>\n",
       "      <td>2007</td>\n",
       "      <td>R</td>\n",
       "      <td>158 min</td>\n",
       "      <td>Cult Movies, Dramas, Thrillers</td>\n",
       "      <td>A political cartoonist, a crime reporter and a...</td>\n",
       "    </tr>\n",
       "    <tr>\n",
       "      <th>8803</th>\n",
       "      <td>s8804</td>\n",
       "      <td>TV Show</td>\n",
       "      <td>Zombie Dumb</td>\n",
       "      <td>Unknown</td>\n",
       "      <td>Unknown</td>\n",
       "      <td>MISSING</td>\n",
       "      <td>July 1, 2019</td>\n",
       "      <td>2018</td>\n",
       "      <td>TV-Y7</td>\n",
       "      <td>2 Seasons</td>\n",
       "      <td>Kids' TV, Korean TV Shows, TV Comedies</td>\n",
       "      <td>While living alone in a spooky town, a young g...</td>\n",
       "    </tr>\n",
       "    <tr>\n",
       "      <th>8804</th>\n",
       "      <td>s8805</td>\n",
       "      <td>Movie</td>\n",
       "      <td>Zombieland</td>\n",
       "      <td>Ruben Fleischer</td>\n",
       "      <td>Jesse Eisenberg, Woody Harrelson, Emma Stone, ...</td>\n",
       "      <td>United States</td>\n",
       "      <td>November 1, 2019</td>\n",
       "      <td>2009</td>\n",
       "      <td>R</td>\n",
       "      <td>88 min</td>\n",
       "      <td>Comedies, Horror Movies</td>\n",
       "      <td>Looking to survive in a world taken over by zo...</td>\n",
       "    </tr>\n",
       "    <tr>\n",
       "      <th>8805</th>\n",
       "      <td>s8806</td>\n",
       "      <td>Movie</td>\n",
       "      <td>Zoom</td>\n",
       "      <td>Peter Hewitt</td>\n",
       "      <td>Tim Allen, Courteney Cox, Chevy Chase, Kate Ma...</td>\n",
       "      <td>United States</td>\n",
       "      <td>January 11, 2020</td>\n",
       "      <td>2006</td>\n",
       "      <td>PG</td>\n",
       "      <td>88 min</td>\n",
       "      <td>Children &amp; Family Movies, Comedies</td>\n",
       "      <td>Dragged from civilian life, a former superhero...</td>\n",
       "    </tr>\n",
       "    <tr>\n",
       "      <th>8806</th>\n",
       "      <td>s8807</td>\n",
       "      <td>Movie</td>\n",
       "      <td>Zubaan</td>\n",
       "      <td>Mozez Singh</td>\n",
       "      <td>Vicky Kaushal, Sarah-Jane Dias, Raaghav Chanan...</td>\n",
       "      <td>India</td>\n",
       "      <td>March 2, 2019</td>\n",
       "      <td>2015</td>\n",
       "      <td>TV-14</td>\n",
       "      <td>111 min</td>\n",
       "      <td>Dramas, International Movies, Music &amp; Musicals</td>\n",
       "      <td>A scrappy but poor boy worms his way into a ty...</td>\n",
       "    </tr>\n",
       "  </tbody>\n",
       "</table>\n",
       "<p>8807 rows × 12 columns</p>\n",
       "</div>"
      ],
      "text/plain": [
       "     show_id     type                  title         director  \\\n",
       "0         s1    Movie   Dick Johnson Is Dead  Kirsten Johnson   \n",
       "1         s2  TV Show          Blood & Water          Unknown   \n",
       "2         s3  TV Show              Ganglands  Julien Leclercq   \n",
       "3         s4  TV Show  Jailbirds New Orleans          Unknown   \n",
       "4         s5  TV Show           Kota Factory          Unknown   \n",
       "...      ...      ...                    ...              ...   \n",
       "8802   s8803    Movie                 Zodiac    David Fincher   \n",
       "8803   s8804  TV Show            Zombie Dumb          Unknown   \n",
       "8804   s8805    Movie             Zombieland  Ruben Fleischer   \n",
       "8805   s8806    Movie                   Zoom     Peter Hewitt   \n",
       "8806   s8807    Movie                 Zubaan      Mozez Singh   \n",
       "\n",
       "                                                   cast        country  \\\n",
       "0                                               Unknown  United States   \n",
       "1     Ama Qamata, Khosi Ngema, Gail Mabalane, Thaban...   South Africa   \n",
       "2     Sami Bouajila, Tracy Gotoas, Samuel Jouy, Nabi...        MISSING   \n",
       "3                                               Unknown        MISSING   \n",
       "4     Mayur More, Jitendra Kumar, Ranjan Raj, Alam K...          India   \n",
       "...                                                 ...            ...   \n",
       "8802  Mark Ruffalo, Jake Gyllenhaal, Robert Downey J...  United States   \n",
       "8803                                            Unknown        MISSING   \n",
       "8804  Jesse Eisenberg, Woody Harrelson, Emma Stone, ...  United States   \n",
       "8805  Tim Allen, Courteney Cox, Chevy Chase, Kate Ma...  United States   \n",
       "8806  Vicky Kaushal, Sarah-Jane Dias, Raaghav Chanan...          India   \n",
       "\n",
       "              date_added  release_year rating   duration  \\\n",
       "0     September 25, 2021          2020  PG-13     90 min   \n",
       "1     September 24, 2021          2021  TV-MA  2 Seasons   \n",
       "2     September 24, 2021          2021  TV-MA   1 Season   \n",
       "3     September 24, 2021          2021  TV-MA   1 Season   \n",
       "4     September 24, 2021          2021  TV-MA  2 Seasons   \n",
       "...                  ...           ...    ...        ...   \n",
       "8802   November 20, 2019          2007      R    158 min   \n",
       "8803        July 1, 2019          2018  TV-Y7  2 Seasons   \n",
       "8804    November 1, 2019          2009      R     88 min   \n",
       "8805    January 11, 2020          2006     PG     88 min   \n",
       "8806       March 2, 2019          2015  TV-14    111 min   \n",
       "\n",
       "                                              listed_in  \\\n",
       "0                                         Documentaries   \n",
       "1       International TV Shows, TV Dramas, TV Mysteries   \n",
       "2     Crime TV Shows, International TV Shows, TV Act...   \n",
       "3                                Docuseries, Reality TV   \n",
       "4     International TV Shows, Romantic TV Shows, TV ...   \n",
       "...                                                 ...   \n",
       "8802                     Cult Movies, Dramas, Thrillers   \n",
       "8803             Kids' TV, Korean TV Shows, TV Comedies   \n",
       "8804                            Comedies, Horror Movies   \n",
       "8805                 Children & Family Movies, Comedies   \n",
       "8806     Dramas, International Movies, Music & Musicals   \n",
       "\n",
       "                                            description  \n",
       "0     As her father nears the end of his life, filmm...  \n",
       "1     After crossing paths at a party, a Cape Town t...  \n",
       "2     To protect his family from a powerful drug lor...  \n",
       "3     Feuds, flirtations and toilet talk go down amo...  \n",
       "4     In a city of coaching centers known to train I...  \n",
       "...                                                 ...  \n",
       "8802  A political cartoonist, a crime reporter and a...  \n",
       "8803  While living alone in a spooky town, a young g...  \n",
       "8804  Looking to survive in a world taken over by zo...  \n",
       "8805  Dragged from civilian life, a former superhero...  \n",
       "8806  A scrappy but poor boy worms his way into a ty...  \n",
       "\n",
       "[8807 rows x 12 columns]"
      ]
     },
     "execution_count": 118,
     "metadata": {},
     "output_type": "execute_result"
    }
   ],
   "source": [
    "df[\"country\"].fillna(\"MISSING\", inplace=True)\n",
    "df[\"duration\"].fillna(\"0 min\", inplace=True)\n",
    "df[\"director\"].fillna(\"Unknown\", inplace=True)\n",
    "df[\"cast\"].fillna(\"Unknown\", inplace=True)\n",
    "df[\"date_added\"].fillna(\"Unknown\", inplace=True)\n",
    "df[\"rating\"].fillna(\"Unknown\", inplace=True)\n",
    "df[\"duration\"].fillna(\"Unknown\", inplace=True)\n",
    "df\n",
    "#no Nan values are left in this dataset"
   ]
  },
  {
   "cell_type": "code",
   "execution_count": 119,
   "id": "35fb499a",
   "metadata": {},
   "outputs": [
    {
     "data": {
      "text/html": [
       "<div>\n",
       "<style scoped>\n",
       "    .dataframe tbody tr th:only-of-type {\n",
       "        vertical-align: middle;\n",
       "    }\n",
       "\n",
       "    .dataframe tbody tr th {\n",
       "        vertical-align: top;\n",
       "    }\n",
       "\n",
       "    .dataframe thead th {\n",
       "        text-align: right;\n",
       "    }\n",
       "</style>\n",
       "<table border=\"1\" class=\"dataframe\">\n",
       "  <thead>\n",
       "    <tr style=\"text-align: right;\">\n",
       "      <th></th>\n",
       "      <th>release_year</th>\n",
       "    </tr>\n",
       "  </thead>\n",
       "  <tbody>\n",
       "    <tr>\n",
       "      <th>count</th>\n",
       "      <td>8807.000000</td>\n",
       "    </tr>\n",
       "    <tr>\n",
       "      <th>mean</th>\n",
       "      <td>2014.180198</td>\n",
       "    </tr>\n",
       "    <tr>\n",
       "      <th>std</th>\n",
       "      <td>8.819312</td>\n",
       "    </tr>\n",
       "    <tr>\n",
       "      <th>min</th>\n",
       "      <td>1925.000000</td>\n",
       "    </tr>\n",
       "    <tr>\n",
       "      <th>25%</th>\n",
       "      <td>2013.000000</td>\n",
       "    </tr>\n",
       "    <tr>\n",
       "      <th>50%</th>\n",
       "      <td>2017.000000</td>\n",
       "    </tr>\n",
       "    <tr>\n",
       "      <th>75%</th>\n",
       "      <td>2019.000000</td>\n",
       "    </tr>\n",
       "    <tr>\n",
       "      <th>max</th>\n",
       "      <td>2021.000000</td>\n",
       "    </tr>\n",
       "  </tbody>\n",
       "</table>\n",
       "</div>"
      ],
      "text/plain": [
       "       release_year\n",
       "count   8807.000000\n",
       "mean    2014.180198\n",
       "std        8.819312\n",
       "min     1925.000000\n",
       "25%     2013.000000\n",
       "50%     2017.000000\n",
       "75%     2019.000000\n",
       "max     2021.000000"
      ]
     },
     "execution_count": 119,
     "metadata": {},
     "output_type": "execute_result"
    }
   ],
   "source": [
    "df.describe()"
   ]
  },
  {
   "cell_type": "code",
   "execution_count": 120,
   "id": "4985069d",
   "metadata": {},
   "outputs": [
    {
     "data": {
      "text/plain": [
       "(8807, 12)"
      ]
     },
     "execution_count": 120,
     "metadata": {},
     "output_type": "execute_result"
    }
   ],
   "source": [
    "df.shape"
   ]
  },
  {
   "cell_type": "code",
   "execution_count": 121,
   "id": "485a8685",
   "metadata": {},
   "outputs": [
    {
     "data": {
      "text/plain": [
       "Index(['show_id', 'type', 'title', 'director', 'cast', 'country', 'date_added',\n",
       "       'release_year', 'rating', 'duration', 'listed_in', 'description'],\n",
       "      dtype='object')"
      ]
     },
     "execution_count": 121,
     "metadata": {},
     "output_type": "execute_result"
    }
   ],
   "source": [
    "df.columns"
   ]
  },
  {
   "cell_type": "code",
   "execution_count": 122,
   "id": "ea8e116d",
   "metadata": {},
   "outputs": [
    {
     "data": {
      "text/plain": [
       "show_id         8807\n",
       "type            8807\n",
       "title           8807\n",
       "director        8807\n",
       "cast            8807\n",
       "country         8807\n",
       "date_added      8807\n",
       "release_year    8807\n",
       "rating          8807\n",
       "duration        8807\n",
       "listed_in       8807\n",
       "description     8807\n",
       "dtype: int64"
      ]
     },
     "execution_count": 122,
     "metadata": {},
     "output_type": "execute_result"
    }
   ],
   "source": [
    "df.count()"
   ]
  },
  {
   "cell_type": "code",
   "execution_count": 123,
   "id": "2592e9a0",
   "metadata": {},
   "outputs": [
    {
     "data": {
      "text/plain": [
       "show_id         8807\n",
       "type               2\n",
       "title           8807\n",
       "director        4529\n",
       "cast            7693\n",
       "country          749\n",
       "date_added      1768\n",
       "release_year      74\n",
       "rating            18\n",
       "duration         221\n",
       "listed_in        514\n",
       "description     8775\n",
       "dtype: int64"
      ]
     },
     "execution_count": 123,
     "metadata": {},
     "output_type": "execute_result"
    }
   ],
   "source": [
    "df.nunique()"
   ]
  },
  {
   "cell_type": "code",
   "execution_count": 124,
   "id": "53545fc3",
   "metadata": {},
   "outputs": [
    {
     "name": "stdout",
     "output_type": "stream",
     "text": [
      " dtype - show_id: object\n",
      " dtype - type: object\n",
      " dtype - title: object\n",
      " dtype - director: object\n",
      " dtype - cast: object\n",
      " dtype - country: object\n",
      " dtype - date_added: object\n",
      " dtype - release_year: int64\n",
      " dtype - rating: object\n",
      " dtype - duration: object\n",
      " dtype - listed_in: object\n",
      " dtype - description: object\n"
     ]
    }
   ],
   "source": [
    "print(f\" dtype - show_id: {df.show_id.dtype}\")\n",
    "print(f\" dtype - type: {df.type.dtype}\")\n",
    "print(f\" dtype - title: {df.title.dtype}\")\n",
    "print(f\" dtype - director: {df.director.dtype}\")\n",
    "print(f\" dtype - cast: {df.cast.dtype}\")\n",
    "print(f\" dtype - country: {df.country.dtype}\")\n",
    "print(f\" dtype - date_added: {df.date_added.dtype}\")\n",
    "print(f\" dtype - release_year: {df.release_year.dtype}\")\n",
    "print(f\" dtype - rating: {df.rating.dtype}\")\n",
    "print(f\" dtype - duration: {df.duration.dtype}\")\n",
    "print(f\" dtype - listed_in: {df.listed_in.dtype}\")\n",
    "print(f\" dtype - description: {df.description.dtype}\")\n"
   ]
  },
  {
   "cell_type": "code",
   "execution_count": 125,
   "id": "75e27fc8",
   "metadata": {},
   "outputs": [
    {
     "data": {
      "text/html": [
       "<div>\n",
       "<style scoped>\n",
       "    .dataframe tbody tr th:only-of-type {\n",
       "        vertical-align: middle;\n",
       "    }\n",
       "\n",
       "    .dataframe tbody tr th {\n",
       "        vertical-align: top;\n",
       "    }\n",
       "\n",
       "    .dataframe thead th {\n",
       "        text-align: right;\n",
       "    }\n",
       "</style>\n",
       "<table border=\"1\" class=\"dataframe\">\n",
       "  <thead>\n",
       "    <tr style=\"text-align: right;\">\n",
       "      <th></th>\n",
       "      <th>show_id</th>\n",
       "      <th>type</th>\n",
       "      <th>title</th>\n",
       "      <th>director</th>\n",
       "      <th>cast</th>\n",
       "      <th>country</th>\n",
       "      <th>date_added</th>\n",
       "      <th>release_year</th>\n",
       "      <th>rating</th>\n",
       "      <th>duration</th>\n",
       "      <th>listed_in</th>\n",
       "      <th>description</th>\n",
       "    </tr>\n",
       "  </thead>\n",
       "  <tbody>\n",
       "    <tr>\n",
       "      <th>0</th>\n",
       "      <td>s1</td>\n",
       "      <td>Movie</td>\n",
       "      <td>Dick Johnson Is Dead</td>\n",
       "      <td>Kirsten Johnson</td>\n",
       "      <td>Unknown</td>\n",
       "      <td>United States</td>\n",
       "      <td>September 25, 2021</td>\n",
       "      <td>2020</td>\n",
       "      <td>PG-13</td>\n",
       "      <td>90 min</td>\n",
       "      <td>Documentaries</td>\n",
       "      <td>As her father nears the end of his life, filmm...</td>\n",
       "    </tr>\n",
       "    <tr>\n",
       "      <th>1</th>\n",
       "      <td>s2</td>\n",
       "      <td>TV Show</td>\n",
       "      <td>Blood &amp; Water</td>\n",
       "      <td>Unknown</td>\n",
       "      <td>Ama Qamata, Khosi Ngema, Gail Mabalane, Thaban...</td>\n",
       "      <td>South Africa</td>\n",
       "      <td>September 24, 2021</td>\n",
       "      <td>2021</td>\n",
       "      <td>TV-MA</td>\n",
       "      <td>2 Seasons</td>\n",
       "      <td>International TV Shows, TV Dramas, TV Mysteries</td>\n",
       "      <td>After crossing paths at a party, a Cape Town t...</td>\n",
       "    </tr>\n",
       "    <tr>\n",
       "      <th>2</th>\n",
       "      <td>s3</td>\n",
       "      <td>TV Show</td>\n",
       "      <td>Ganglands</td>\n",
       "      <td>Julien Leclercq</td>\n",
       "      <td>Sami Bouajila, Tracy Gotoas, Samuel Jouy, Nabi...</td>\n",
       "      <td>MISSING</td>\n",
       "      <td>September 24, 2021</td>\n",
       "      <td>2021</td>\n",
       "      <td>TV-MA</td>\n",
       "      <td>1 Season</td>\n",
       "      <td>Crime TV Shows, International TV Shows, TV Act...</td>\n",
       "      <td>To protect his family from a powerful drug lor...</td>\n",
       "    </tr>\n",
       "    <tr>\n",
       "      <th>3</th>\n",
       "      <td>s4</td>\n",
       "      <td>TV Show</td>\n",
       "      <td>Jailbirds New Orleans</td>\n",
       "      <td>Unknown</td>\n",
       "      <td>Unknown</td>\n",
       "      <td>MISSING</td>\n",
       "      <td>September 24, 2021</td>\n",
       "      <td>2021</td>\n",
       "      <td>TV-MA</td>\n",
       "      <td>1 Season</td>\n",
       "      <td>Docuseries, Reality TV</td>\n",
       "      <td>Feuds, flirtations and toilet talk go down amo...</td>\n",
       "    </tr>\n",
       "    <tr>\n",
       "      <th>4</th>\n",
       "      <td>s5</td>\n",
       "      <td>TV Show</td>\n",
       "      <td>Kota Factory</td>\n",
       "      <td>Unknown</td>\n",
       "      <td>Mayur More, Jitendra Kumar, Ranjan Raj, Alam K...</td>\n",
       "      <td>India</td>\n",
       "      <td>September 24, 2021</td>\n",
       "      <td>2021</td>\n",
       "      <td>TV-MA</td>\n",
       "      <td>2 Seasons</td>\n",
       "      <td>International TV Shows, Romantic TV Shows, TV ...</td>\n",
       "      <td>In a city of coaching centers known to train I...</td>\n",
       "    </tr>\n",
       "    <tr>\n",
       "      <th>...</th>\n",
       "      <td>...</td>\n",
       "      <td>...</td>\n",
       "      <td>...</td>\n",
       "      <td>...</td>\n",
       "      <td>...</td>\n",
       "      <td>...</td>\n",
       "      <td>...</td>\n",
       "      <td>...</td>\n",
       "      <td>...</td>\n",
       "      <td>...</td>\n",
       "      <td>...</td>\n",
       "      <td>...</td>\n",
       "    </tr>\n",
       "    <tr>\n",
       "      <th>8802</th>\n",
       "      <td>s8803</td>\n",
       "      <td>Movie</td>\n",
       "      <td>Zodiac</td>\n",
       "      <td>David Fincher</td>\n",
       "      <td>Mark Ruffalo, Jake Gyllenhaal, Robert Downey J...</td>\n",
       "      <td>United States</td>\n",
       "      <td>November 20, 2019</td>\n",
       "      <td>2007</td>\n",
       "      <td>R</td>\n",
       "      <td>158 min</td>\n",
       "      <td>Cult Movies, Dramas, Thrillers</td>\n",
       "      <td>A political cartoonist, a crime reporter and a...</td>\n",
       "    </tr>\n",
       "    <tr>\n",
       "      <th>8803</th>\n",
       "      <td>s8804</td>\n",
       "      <td>TV Show</td>\n",
       "      <td>Zombie Dumb</td>\n",
       "      <td>Unknown</td>\n",
       "      <td>Unknown</td>\n",
       "      <td>MISSING</td>\n",
       "      <td>July 1, 2019</td>\n",
       "      <td>2018</td>\n",
       "      <td>TV-Y7</td>\n",
       "      <td>2 Seasons</td>\n",
       "      <td>Kids' TV, Korean TV Shows, TV Comedies</td>\n",
       "      <td>While living alone in a spooky town, a young g...</td>\n",
       "    </tr>\n",
       "    <tr>\n",
       "      <th>8804</th>\n",
       "      <td>s8805</td>\n",
       "      <td>Movie</td>\n",
       "      <td>Zombieland</td>\n",
       "      <td>Ruben Fleischer</td>\n",
       "      <td>Jesse Eisenberg, Woody Harrelson, Emma Stone, ...</td>\n",
       "      <td>United States</td>\n",
       "      <td>November 1, 2019</td>\n",
       "      <td>2009</td>\n",
       "      <td>R</td>\n",
       "      <td>88 min</td>\n",
       "      <td>Comedies, Horror Movies</td>\n",
       "      <td>Looking to survive in a world taken over by zo...</td>\n",
       "    </tr>\n",
       "    <tr>\n",
       "      <th>8805</th>\n",
       "      <td>s8806</td>\n",
       "      <td>Movie</td>\n",
       "      <td>Zoom</td>\n",
       "      <td>Peter Hewitt</td>\n",
       "      <td>Tim Allen, Courteney Cox, Chevy Chase, Kate Ma...</td>\n",
       "      <td>United States</td>\n",
       "      <td>January 11, 2020</td>\n",
       "      <td>2006</td>\n",
       "      <td>PG</td>\n",
       "      <td>88 min</td>\n",
       "      <td>Children &amp; Family Movies, Comedies</td>\n",
       "      <td>Dragged from civilian life, a former superhero...</td>\n",
       "    </tr>\n",
       "    <tr>\n",
       "      <th>8806</th>\n",
       "      <td>s8807</td>\n",
       "      <td>Movie</td>\n",
       "      <td>Zubaan</td>\n",
       "      <td>Mozez Singh</td>\n",
       "      <td>Vicky Kaushal, Sarah-Jane Dias, Raaghav Chanan...</td>\n",
       "      <td>India</td>\n",
       "      <td>March 2, 2019</td>\n",
       "      <td>2015</td>\n",
       "      <td>TV-14</td>\n",
       "      <td>111 min</td>\n",
       "      <td>Dramas, International Movies, Music &amp; Musicals</td>\n",
       "      <td>A scrappy but poor boy worms his way into a ty...</td>\n",
       "    </tr>\n",
       "  </tbody>\n",
       "</table>\n",
       "<p>8807 rows × 12 columns</p>\n",
       "</div>"
      ],
      "text/plain": [
       "     show_id     type                  title         director  \\\n",
       "0         s1    Movie   Dick Johnson Is Dead  Kirsten Johnson   \n",
       "1         s2  TV Show          Blood & Water          Unknown   \n",
       "2         s3  TV Show              Ganglands  Julien Leclercq   \n",
       "3         s4  TV Show  Jailbirds New Orleans          Unknown   \n",
       "4         s5  TV Show           Kota Factory          Unknown   \n",
       "...      ...      ...                    ...              ...   \n",
       "8802   s8803    Movie                 Zodiac    David Fincher   \n",
       "8803   s8804  TV Show            Zombie Dumb          Unknown   \n",
       "8804   s8805    Movie             Zombieland  Ruben Fleischer   \n",
       "8805   s8806    Movie                   Zoom     Peter Hewitt   \n",
       "8806   s8807    Movie                 Zubaan      Mozez Singh   \n",
       "\n",
       "                                                   cast        country  \\\n",
       "0                                               Unknown  United States   \n",
       "1     Ama Qamata, Khosi Ngema, Gail Mabalane, Thaban...   South Africa   \n",
       "2     Sami Bouajila, Tracy Gotoas, Samuel Jouy, Nabi...        MISSING   \n",
       "3                                               Unknown        MISSING   \n",
       "4     Mayur More, Jitendra Kumar, Ranjan Raj, Alam K...          India   \n",
       "...                                                 ...            ...   \n",
       "8802  Mark Ruffalo, Jake Gyllenhaal, Robert Downey J...  United States   \n",
       "8803                                            Unknown        MISSING   \n",
       "8804  Jesse Eisenberg, Woody Harrelson, Emma Stone, ...  United States   \n",
       "8805  Tim Allen, Courteney Cox, Chevy Chase, Kate Ma...  United States   \n",
       "8806  Vicky Kaushal, Sarah-Jane Dias, Raaghav Chanan...          India   \n",
       "\n",
       "              date_added  release_year rating   duration  \\\n",
       "0     September 25, 2021          2020  PG-13     90 min   \n",
       "1     September 24, 2021          2021  TV-MA  2 Seasons   \n",
       "2     September 24, 2021          2021  TV-MA   1 Season   \n",
       "3     September 24, 2021          2021  TV-MA   1 Season   \n",
       "4     September 24, 2021          2021  TV-MA  2 Seasons   \n",
       "...                  ...           ...    ...        ...   \n",
       "8802   November 20, 2019          2007      R    158 min   \n",
       "8803        July 1, 2019          2018  TV-Y7  2 Seasons   \n",
       "8804    November 1, 2019          2009      R     88 min   \n",
       "8805    January 11, 2020          2006     PG     88 min   \n",
       "8806       March 2, 2019          2015  TV-14    111 min   \n",
       "\n",
       "                                              listed_in  \\\n",
       "0                                         Documentaries   \n",
       "1       International TV Shows, TV Dramas, TV Mysteries   \n",
       "2     Crime TV Shows, International TV Shows, TV Act...   \n",
       "3                                Docuseries, Reality TV   \n",
       "4     International TV Shows, Romantic TV Shows, TV ...   \n",
       "...                                                 ...   \n",
       "8802                     Cult Movies, Dramas, Thrillers   \n",
       "8803             Kids' TV, Korean TV Shows, TV Comedies   \n",
       "8804                            Comedies, Horror Movies   \n",
       "8805                 Children & Family Movies, Comedies   \n",
       "8806     Dramas, International Movies, Music & Musicals   \n",
       "\n",
       "                                            description  \n",
       "0     As her father nears the end of his life, filmm...  \n",
       "1     After crossing paths at a party, a Cape Town t...  \n",
       "2     To protect his family from a powerful drug lor...  \n",
       "3     Feuds, flirtations and toilet talk go down amo...  \n",
       "4     In a city of coaching centers known to train I...  \n",
       "...                                                 ...  \n",
       "8802  A political cartoonist, a crime reporter and a...  \n",
       "8803  While living alone in a spooky town, a young g...  \n",
       "8804  Looking to survive in a world taken over by zo...  \n",
       "8805  Dragged from civilian life, a former superhero...  \n",
       "8806  A scrappy but poor boy worms his way into a ty...  \n",
       "\n",
       "[8807 rows x 12 columns]"
      ]
     },
     "execution_count": 125,
     "metadata": {},
     "output_type": "execute_result"
    }
   ],
   "source": [
    "df.dropna(axis=\"index\", how=\"all\")"
   ]
  },
  {
   "cell_type": "markdown",
   "id": "b308fe0c",
   "metadata": {},
   "source": [
    "### working with duration column and splitting it into 2 columns"
   ]
  },
  {
   "cell_type": "code",
   "execution_count": 126,
   "id": "4f1e9f85",
   "metadata": {},
   "outputs": [
    {
     "data": {
      "text/plain": [
       "array(['90 min', '2 Seasons', '1 Season', '91 min', '125 min',\n",
       "       '9 Seasons', '104 min', '127 min', '4 Seasons', '67 min', '94 min',\n",
       "       '5 Seasons', '161 min', '61 min', '166 min', '147 min', '103 min',\n",
       "       '97 min', '106 min', '111 min', '3 Seasons', '110 min', '105 min',\n",
       "       '96 min', '124 min', '116 min', '98 min', '23 min', '115 min',\n",
       "       '122 min', '99 min', '88 min', '100 min', '6 Seasons', '102 min',\n",
       "       '93 min', '95 min', '85 min', '83 min', '113 min', '13 min',\n",
       "       '182 min', '48 min', '145 min', '87 min', '92 min', '80 min',\n",
       "       '117 min', '128 min', '119 min', '143 min', '114 min', '118 min',\n",
       "       '108 min', '63 min', '121 min', '142 min', '154 min', '120 min',\n",
       "       '82 min', '109 min', '101 min', '86 min', '229 min', '76 min',\n",
       "       '89 min', '156 min', '112 min', '107 min', '129 min', '135 min',\n",
       "       '136 min', '165 min', '150 min', '133 min', '70 min', '84 min',\n",
       "       '140 min', '78 min', '7 Seasons', '64 min', '59 min', '139 min',\n",
       "       '69 min', '148 min', '189 min', '141 min', '130 min', '138 min',\n",
       "       '81 min', '132 min', '10 Seasons', '123 min', '65 min', '68 min',\n",
       "       '66 min', '62 min', '74 min', '131 min', '39 min', '46 min',\n",
       "       '38 min', '8 Seasons', '17 Seasons', '126 min', '155 min',\n",
       "       '159 min', '137 min', '12 min', '273 min', '36 min', '34 min',\n",
       "       '77 min', '60 min', '49 min', '58 min', '72 min', '204 min',\n",
       "       '212 min', '25 min', '73 min', '29 min', '47 min', '32 min',\n",
       "       '35 min', '71 min', '149 min', '33 min', '15 min', '54 min',\n",
       "       '224 min', '162 min', '37 min', '75 min', '79 min', '55 min',\n",
       "       '158 min', '164 min', '173 min', '181 min', '185 min', '21 min',\n",
       "       '24 min', '51 min', '151 min', '42 min', '22 min', '134 min',\n",
       "       '177 min', '13 Seasons', '52 min', '14 min', '53 min', '8 min',\n",
       "       '57 min', '28 min', '50 min', '9 min', '26 min', '45 min',\n",
       "       '171 min', '27 min', '44 min', '146 min', '20 min', '157 min',\n",
       "       '17 min', '203 min', '41 min', '30 min', '194 min', '15 Seasons',\n",
       "       '233 min', '237 min', '230 min', '195 min', '253 min', '152 min',\n",
       "       '190 min', '160 min', '208 min', '180 min', '144 min', '5 min',\n",
       "       '174 min', '170 min', '192 min', '209 min', '187 min', '172 min',\n",
       "       '16 min', '186 min', '11 min', '193 min', '176 min', '56 min',\n",
       "       '169 min', '40 min', '10 min', '3 min', '168 min', '312 min',\n",
       "       '153 min', '214 min', '31 min', '163 min', '19 min', '12 Seasons',\n",
       "       '0 min', '179 min', '11 Seasons', '43 min', '200 min', '196 min',\n",
       "       '167 min', '178 min', '228 min', '18 min', '205 min', '201 min',\n",
       "       '191 min'], dtype=object)"
      ]
     },
     "execution_count": 126,
     "metadata": {},
     "output_type": "execute_result"
    }
   ],
   "source": [
    "df[\"duration\"].unique()"
   ]
  },
  {
   "cell_type": "code",
   "execution_count": 127,
   "id": "2607c64e",
   "metadata": {},
   "outputs": [
    {
     "data": {
      "text/html": [
       "<div>\n",
       "<style scoped>\n",
       "    .dataframe tbody tr th:only-of-type {\n",
       "        vertical-align: middle;\n",
       "    }\n",
       "\n",
       "    .dataframe tbody tr th {\n",
       "        vertical-align: top;\n",
       "    }\n",
       "\n",
       "    .dataframe thead th {\n",
       "        text-align: right;\n",
       "    }\n",
       "</style>\n",
       "<table border=\"1\" class=\"dataframe\">\n",
       "  <thead>\n",
       "    <tr style=\"text-align: right;\">\n",
       "      <th></th>\n",
       "      <th>show_id</th>\n",
       "      <th>type</th>\n",
       "      <th>title</th>\n",
       "      <th>director</th>\n",
       "      <th>cast</th>\n",
       "      <th>country</th>\n",
       "      <th>date_added</th>\n",
       "      <th>release_year</th>\n",
       "      <th>rating</th>\n",
       "      <th>duration</th>\n",
       "      <th>listed_in</th>\n",
       "      <th>description</th>\n",
       "      <th>Number duration</th>\n",
       "      <th>Season/min</th>\n",
       "    </tr>\n",
       "  </thead>\n",
       "  <tbody>\n",
       "    <tr>\n",
       "      <th>0</th>\n",
       "      <td>s1</td>\n",
       "      <td>Movie</td>\n",
       "      <td>Dick Johnson Is Dead</td>\n",
       "      <td>Kirsten Johnson</td>\n",
       "      <td>Unknown</td>\n",
       "      <td>United States</td>\n",
       "      <td>September 25, 2021</td>\n",
       "      <td>2020</td>\n",
       "      <td>PG-13</td>\n",
       "      <td>90 min</td>\n",
       "      <td>Documentaries</td>\n",
       "      <td>As her father nears the end of his life, filmm...</td>\n",
       "      <td>90</td>\n",
       "      <td>min</td>\n",
       "    </tr>\n",
       "    <tr>\n",
       "      <th>1</th>\n",
       "      <td>s2</td>\n",
       "      <td>TV Show</td>\n",
       "      <td>Blood &amp; Water</td>\n",
       "      <td>Unknown</td>\n",
       "      <td>Ama Qamata, Khosi Ngema, Gail Mabalane, Thaban...</td>\n",
       "      <td>South Africa</td>\n",
       "      <td>September 24, 2021</td>\n",
       "      <td>2021</td>\n",
       "      <td>TV-MA</td>\n",
       "      <td>2 Seasons</td>\n",
       "      <td>International TV Shows, TV Dramas, TV Mysteries</td>\n",
       "      <td>After crossing paths at a party, a Cape Town t...</td>\n",
       "      <td>2</td>\n",
       "      <td>Seasons</td>\n",
       "    </tr>\n",
       "    <tr>\n",
       "      <th>2</th>\n",
       "      <td>s3</td>\n",
       "      <td>TV Show</td>\n",
       "      <td>Ganglands</td>\n",
       "      <td>Julien Leclercq</td>\n",
       "      <td>Sami Bouajila, Tracy Gotoas, Samuel Jouy, Nabi...</td>\n",
       "      <td>MISSING</td>\n",
       "      <td>September 24, 2021</td>\n",
       "      <td>2021</td>\n",
       "      <td>TV-MA</td>\n",
       "      <td>1 Season</td>\n",
       "      <td>Crime TV Shows, International TV Shows, TV Act...</td>\n",
       "      <td>To protect his family from a powerful drug lor...</td>\n",
       "      <td>1</td>\n",
       "      <td>Season</td>\n",
       "    </tr>\n",
       "    <tr>\n",
       "      <th>3</th>\n",
       "      <td>s4</td>\n",
       "      <td>TV Show</td>\n",
       "      <td>Jailbirds New Orleans</td>\n",
       "      <td>Unknown</td>\n",
       "      <td>Unknown</td>\n",
       "      <td>MISSING</td>\n",
       "      <td>September 24, 2021</td>\n",
       "      <td>2021</td>\n",
       "      <td>TV-MA</td>\n",
       "      <td>1 Season</td>\n",
       "      <td>Docuseries, Reality TV</td>\n",
       "      <td>Feuds, flirtations and toilet talk go down amo...</td>\n",
       "      <td>1</td>\n",
       "      <td>Season</td>\n",
       "    </tr>\n",
       "    <tr>\n",
       "      <th>4</th>\n",
       "      <td>s5</td>\n",
       "      <td>TV Show</td>\n",
       "      <td>Kota Factory</td>\n",
       "      <td>Unknown</td>\n",
       "      <td>Mayur More, Jitendra Kumar, Ranjan Raj, Alam K...</td>\n",
       "      <td>India</td>\n",
       "      <td>September 24, 2021</td>\n",
       "      <td>2021</td>\n",
       "      <td>TV-MA</td>\n",
       "      <td>2 Seasons</td>\n",
       "      <td>International TV Shows, Romantic TV Shows, TV ...</td>\n",
       "      <td>In a city of coaching centers known to train I...</td>\n",
       "      <td>2</td>\n",
       "      <td>Seasons</td>\n",
       "    </tr>\n",
       "    <tr>\n",
       "      <th>...</th>\n",
       "      <td>...</td>\n",
       "      <td>...</td>\n",
       "      <td>...</td>\n",
       "      <td>...</td>\n",
       "      <td>...</td>\n",
       "      <td>...</td>\n",
       "      <td>...</td>\n",
       "      <td>...</td>\n",
       "      <td>...</td>\n",
       "      <td>...</td>\n",
       "      <td>...</td>\n",
       "      <td>...</td>\n",
       "      <td>...</td>\n",
       "      <td>...</td>\n",
       "    </tr>\n",
       "    <tr>\n",
       "      <th>8802</th>\n",
       "      <td>s8803</td>\n",
       "      <td>Movie</td>\n",
       "      <td>Zodiac</td>\n",
       "      <td>David Fincher</td>\n",
       "      <td>Mark Ruffalo, Jake Gyllenhaal, Robert Downey J...</td>\n",
       "      <td>United States</td>\n",
       "      <td>November 20, 2019</td>\n",
       "      <td>2007</td>\n",
       "      <td>R</td>\n",
       "      <td>158 min</td>\n",
       "      <td>Cult Movies, Dramas, Thrillers</td>\n",
       "      <td>A political cartoonist, a crime reporter and a...</td>\n",
       "      <td>158</td>\n",
       "      <td>min</td>\n",
       "    </tr>\n",
       "    <tr>\n",
       "      <th>8803</th>\n",
       "      <td>s8804</td>\n",
       "      <td>TV Show</td>\n",
       "      <td>Zombie Dumb</td>\n",
       "      <td>Unknown</td>\n",
       "      <td>Unknown</td>\n",
       "      <td>MISSING</td>\n",
       "      <td>July 1, 2019</td>\n",
       "      <td>2018</td>\n",
       "      <td>TV-Y7</td>\n",
       "      <td>2 Seasons</td>\n",
       "      <td>Kids' TV, Korean TV Shows, TV Comedies</td>\n",
       "      <td>While living alone in a spooky town, a young g...</td>\n",
       "      <td>2</td>\n",
       "      <td>Seasons</td>\n",
       "    </tr>\n",
       "    <tr>\n",
       "      <th>8804</th>\n",
       "      <td>s8805</td>\n",
       "      <td>Movie</td>\n",
       "      <td>Zombieland</td>\n",
       "      <td>Ruben Fleischer</td>\n",
       "      <td>Jesse Eisenberg, Woody Harrelson, Emma Stone, ...</td>\n",
       "      <td>United States</td>\n",
       "      <td>November 1, 2019</td>\n",
       "      <td>2009</td>\n",
       "      <td>R</td>\n",
       "      <td>88 min</td>\n",
       "      <td>Comedies, Horror Movies</td>\n",
       "      <td>Looking to survive in a world taken over by zo...</td>\n",
       "      <td>88</td>\n",
       "      <td>min</td>\n",
       "    </tr>\n",
       "    <tr>\n",
       "      <th>8805</th>\n",
       "      <td>s8806</td>\n",
       "      <td>Movie</td>\n",
       "      <td>Zoom</td>\n",
       "      <td>Peter Hewitt</td>\n",
       "      <td>Tim Allen, Courteney Cox, Chevy Chase, Kate Ma...</td>\n",
       "      <td>United States</td>\n",
       "      <td>January 11, 2020</td>\n",
       "      <td>2006</td>\n",
       "      <td>PG</td>\n",
       "      <td>88 min</td>\n",
       "      <td>Children &amp; Family Movies, Comedies</td>\n",
       "      <td>Dragged from civilian life, a former superhero...</td>\n",
       "      <td>88</td>\n",
       "      <td>min</td>\n",
       "    </tr>\n",
       "    <tr>\n",
       "      <th>8806</th>\n",
       "      <td>s8807</td>\n",
       "      <td>Movie</td>\n",
       "      <td>Zubaan</td>\n",
       "      <td>Mozez Singh</td>\n",
       "      <td>Vicky Kaushal, Sarah-Jane Dias, Raaghav Chanan...</td>\n",
       "      <td>India</td>\n",
       "      <td>March 2, 2019</td>\n",
       "      <td>2015</td>\n",
       "      <td>TV-14</td>\n",
       "      <td>111 min</td>\n",
       "      <td>Dramas, International Movies, Music &amp; Musicals</td>\n",
       "      <td>A scrappy but poor boy worms his way into a ty...</td>\n",
       "      <td>111</td>\n",
       "      <td>min</td>\n",
       "    </tr>\n",
       "  </tbody>\n",
       "</table>\n",
       "<p>8807 rows × 14 columns</p>\n",
       "</div>"
      ],
      "text/plain": [
       "     show_id     type                  title         director  \\\n",
       "0         s1    Movie   Dick Johnson Is Dead  Kirsten Johnson   \n",
       "1         s2  TV Show          Blood & Water          Unknown   \n",
       "2         s3  TV Show              Ganglands  Julien Leclercq   \n",
       "3         s4  TV Show  Jailbirds New Orleans          Unknown   \n",
       "4         s5  TV Show           Kota Factory          Unknown   \n",
       "...      ...      ...                    ...              ...   \n",
       "8802   s8803    Movie                 Zodiac    David Fincher   \n",
       "8803   s8804  TV Show            Zombie Dumb          Unknown   \n",
       "8804   s8805    Movie             Zombieland  Ruben Fleischer   \n",
       "8805   s8806    Movie                   Zoom     Peter Hewitt   \n",
       "8806   s8807    Movie                 Zubaan      Mozez Singh   \n",
       "\n",
       "                                                   cast        country  \\\n",
       "0                                               Unknown  United States   \n",
       "1     Ama Qamata, Khosi Ngema, Gail Mabalane, Thaban...   South Africa   \n",
       "2     Sami Bouajila, Tracy Gotoas, Samuel Jouy, Nabi...        MISSING   \n",
       "3                                               Unknown        MISSING   \n",
       "4     Mayur More, Jitendra Kumar, Ranjan Raj, Alam K...          India   \n",
       "...                                                 ...            ...   \n",
       "8802  Mark Ruffalo, Jake Gyllenhaal, Robert Downey J...  United States   \n",
       "8803                                            Unknown        MISSING   \n",
       "8804  Jesse Eisenberg, Woody Harrelson, Emma Stone, ...  United States   \n",
       "8805  Tim Allen, Courteney Cox, Chevy Chase, Kate Ma...  United States   \n",
       "8806  Vicky Kaushal, Sarah-Jane Dias, Raaghav Chanan...          India   \n",
       "\n",
       "              date_added  release_year rating   duration  \\\n",
       "0     September 25, 2021          2020  PG-13     90 min   \n",
       "1     September 24, 2021          2021  TV-MA  2 Seasons   \n",
       "2     September 24, 2021          2021  TV-MA   1 Season   \n",
       "3     September 24, 2021          2021  TV-MA   1 Season   \n",
       "4     September 24, 2021          2021  TV-MA  2 Seasons   \n",
       "...                  ...           ...    ...        ...   \n",
       "8802   November 20, 2019          2007      R    158 min   \n",
       "8803        July 1, 2019          2018  TV-Y7  2 Seasons   \n",
       "8804    November 1, 2019          2009      R     88 min   \n",
       "8805    January 11, 2020          2006     PG     88 min   \n",
       "8806       March 2, 2019          2015  TV-14    111 min   \n",
       "\n",
       "                                              listed_in  \\\n",
       "0                                         Documentaries   \n",
       "1       International TV Shows, TV Dramas, TV Mysteries   \n",
       "2     Crime TV Shows, International TV Shows, TV Act...   \n",
       "3                                Docuseries, Reality TV   \n",
       "4     International TV Shows, Romantic TV Shows, TV ...   \n",
       "...                                                 ...   \n",
       "8802                     Cult Movies, Dramas, Thrillers   \n",
       "8803             Kids' TV, Korean TV Shows, TV Comedies   \n",
       "8804                            Comedies, Horror Movies   \n",
       "8805                 Children & Family Movies, Comedies   \n",
       "8806     Dramas, International Movies, Music & Musicals   \n",
       "\n",
       "                                            description  Number duration  \\\n",
       "0     As her father nears the end of his life, filmm...               90   \n",
       "1     After crossing paths at a party, a Cape Town t...                2   \n",
       "2     To protect his family from a powerful drug lor...                1   \n",
       "3     Feuds, flirtations and toilet talk go down amo...                1   \n",
       "4     In a city of coaching centers known to train I...                2   \n",
       "...                                                 ...              ...   \n",
       "8802  A political cartoonist, a crime reporter and a...              158   \n",
       "8803  While living alone in a spooky town, a young g...                2   \n",
       "8804  Looking to survive in a world taken over by zo...               88   \n",
       "8805  Dragged from civilian life, a former superhero...               88   \n",
       "8806  A scrappy but poor boy worms his way into a ty...              111   \n",
       "\n",
       "     Season/min  \n",
       "0           min  \n",
       "1       Seasons  \n",
       "2        Season  \n",
       "3        Season  \n",
       "4       Seasons  \n",
       "...         ...  \n",
       "8802        min  \n",
       "8803    Seasons  \n",
       "8804        min  \n",
       "8805        min  \n",
       "8806        min  \n",
       "\n",
       "[8807 rows x 14 columns]"
      ]
     },
     "execution_count": 127,
     "metadata": {},
     "output_type": "execute_result"
    }
   ],
   "source": [
    "#to split duration column (integer+min/season)\n",
    "l_num_dur=list() \n",
    "l_seas_min=list()\n",
    "for i in df[\"duration\"]:\n",
    "    num_dur=int(i.split()[0]) #to get the integer value\n",
    "    w_dur=i.split()[1] #to get the word Seasons/min\n",
    "    l_num_dur.append(num_dur) #will add the numerical value of duration\n",
    "    l_seas_min.append(w_dur) #will add either Seasons or min\n",
    "df[\"Number duration\"]=l_num_dur\n",
    "df[\"Season/min\"]=l_seas_min\n",
    "df"
   ]
  },
  {
   "cell_type": "code",
   "execution_count": 128,
   "id": "61c3bdba",
   "metadata": {},
   "outputs": [
    {
     "data": {
      "text/plain": [
       "array(['PG-13', 'TV-MA', 'PG', 'TV-14', 'TV-PG', 'TV-Y', 'TV-Y7', 'R',\n",
       "       'TV-G', 'G', 'NC-17', '74 min', '84 min', '66 min', 'NR',\n",
       "       'Unknown', 'TV-Y7-FV', 'UR'], dtype=object)"
      ]
     },
     "execution_count": 128,
     "metadata": {},
     "output_type": "execute_result"
    }
   ],
   "source": [
    "df[\"rating\"].unique()"
   ]
  },
  {
   "cell_type": "code",
   "execution_count": 129,
   "id": "2f9518bb",
   "metadata": {},
   "outputs": [
    {
     "name": "stdout",
     "output_type": "stream",
     "text": [
      "5541    0 min\n",
      "Name: duration, dtype: object\n",
      "5794    0 min\n",
      "Name: duration, dtype: object\n",
      "5813    0 min\n",
      "Name: duration, dtype: object\n"
     ]
    }
   ],
   "source": [
    "print(df.loc[df[\"rating\"]==\"74 min\", \"duration\"])\n",
    "print(df.loc[df[\"rating\"]==\"84 min\", \"duration\"])\n",
    "print(df.loc[df[\"rating\"]==\"66 min\", \"duration\"])\n",
    "#3 hat durationi arjeq Nan a exel, iskakan arjeqnery yngel ratingi mej"
   ]
  },
  {
   "cell_type": "code",
   "execution_count": 130,
   "id": "fd02d3c4",
   "metadata": {},
   "outputs": [],
   "source": [
    "df.loc[df[\"rating\"]==\"74 min\", \"duration\"]=\"74 min\"\n",
    "df.loc[df[\"rating\"]==\"84 min\", \"duration\"]=\"84 min\"\n",
    "df.loc[df[\"rating\"]==\"66 min\", \"duration\"]=\"66 min\"\n",
    "df.loc[df[\"rating\"]==\"74 min\", \"rating\"]=\"Unknown\"\n",
    "df.loc[df[\"rating\"]==\"84 min\", \"rating\"]=\"Unknown\"\n",
    "df.loc[df[\"rating\"]==\"66 min\", \"rating\"]=\"Unknown\""
   ]
  },
  {
   "cell_type": "markdown",
   "id": "5c2189e1",
   "metadata": {},
   "source": [
    "### N. of tv shows vs movies"
   ]
  },
  {
   "cell_type": "code",
   "execution_count": 131,
   "id": "32ef38e9",
   "metadata": {},
   "outputs": [
    {
     "name": "stdout",
     "output_type": "stream",
     "text": [
      "['Movie' 'TV Show']\n"
     ]
    }
   ],
   "source": [
    "print(df[\"type\"].unique()) #here we see that there are only two types: Movie and TV show\n",
    "df_movies = df[df[\"type\"] == \"Movie\"]\n",
    "df_series = df[df[\"type\"] == \"TV Show\"]"
   ]
  },
  {
   "cell_type": "code",
   "execution_count": 132,
   "id": "6d413048",
   "metadata": {},
   "outputs": [
    {
     "name": "stdout",
     "output_type": "stream",
     "text": [
      "There are 6131 movies and 2676 TV shows in our dataset\n"
     ]
    },
    {
     "data": {
      "text/plain": [
       "8807"
      ]
     },
     "execution_count": 132,
     "metadata": {},
     "output_type": "execute_result"
    }
   ],
   "source": [
    "df_movies.value_counts()\n",
    "n_of_movies_and_tv_series = df[\"title\"].nunique()\n",
    "n_of_movies =  df_movies[\"title\"].count()\n",
    "n_of_shows = df_series[\"title\"].count()\n",
    "print(f\"There are {n_of_movies} movies and {n_of_shows} TV shows in our dataset\")\n",
    "#that means that netflix produced more movies than TV shows\n",
    "n_of_movies_and_tv_series"
   ]
  },
  {
   "cell_type": "code",
   "execution_count": 133,
   "id": "cd0c341f",
   "metadata": {},
   "outputs": [
    {
     "data": {
      "image/png": "[encoded data removed]",
      "text/plain": [
       "<Figure size 576x576 with 1 Axes>"
      ]
     },
     "metadata": {},
     "output_type": "display_data"
    }
   ],
   "source": [
    "percentage_movies = (n_of_movies / n_of_movies_and_tv_series) * 100\n",
    "percentage_tvshows =  (n_of_shows / n_of_movies_and_tv_series) * 100\n",
    "\n",
    "labels = ['Movies', 'TV Shows']\n",
    "values = [percentage_movies, percentage_tvshows]\n",
    "\n",
    "colors_pie = ['#E50914', '#F5F5F5', '#221F1F']\n",
    "\n",
    "plt.figure(figsize=(8,8))\n",
    "plt.pie(values, colors = colors_pie, autopct='%1.1f%%', textprops={'fontsize': 14})\n",
    "plt.title('Movies and TV Shows')\n",
    "plt.legend(loc='upper right', labels=labels)\n",
    "plt.show() "
   ]
  },
  {
   "cell_type": "markdown",
   "id": "9f24f27f",
   "metadata": {},
   "source": [
    "### Years when Netflix produced maximum/minimum number of movies/TV Shows"
   ]
  },
  {
   "cell_type": "code",
   "execution_count": 134,
   "id": "99a3acb4",
   "metadata": {},
   "outputs": [
    {
     "name": "stdout",
     "output_type": "stream",
     "text": [
      "[2018] is/are the year(s) when Netflix produced maximum number of films/series\n",
      "[1961, 1959, 1925, 1966, 1947] is/are the year(s) when Netflix produced minimum number of films/series\n"
     ]
    }
   ],
   "source": [
    "count_dict = {}\n",
    "\n",
    "for year in df[\"release_year\"]:\n",
    "    if year in count_dict:\n",
    "        count_dict[year] += 1\n",
    "    else:\n",
    "        count_dict[year] = 1\n",
    "#print(count_dict)\n",
    "\n",
    "max_n = max(count_dict.values())\n",
    "min_n = min(count_dict.values())\n",
    "list_of_min = []\n",
    "list_of_max = []\n",
    "for i in count_dict.keys():\n",
    "    if count_dict[i] == max_n:\n",
    "        list_of_max.append(i)\n",
    "        \n",
    "    if count_dict[i] == min_n:\n",
    "        list_of_min.append(i)\n",
    "        \n",
    "print(f\"{list_of_max} is/are the year(s) when Netflix produced maximum number of films/series\")\n",
    "print(f\"{list_of_min} is/are the year(s) when Netflix produced minimum number of films/series\")"
   ]
  },
  {
   "cell_type": "code",
   "execution_count": null,
   "id": "b2225bf5",
   "metadata": {},
   "outputs": [],
   "source": []
  },
  {
   "cell_type": "code",
   "execution_count": 135,
   "id": "cb3e777d",
   "metadata": {},
   "outputs": [
    {
     "data": {
      "image/png": "[encoded data removed]",
      "text/plain": [
       "<Figure size 864x720 with 1 Axes>"
      ]
     },
     "metadata": {
      "needs_background": "light"
     },
     "output_type": "display_data"
    }
   ],
   "source": [
    "keys = list(count_dict.keys())\n",
    "keys.sort()\n",
    "\n",
    "value_counts_2 = {}\n",
    "for i in keys:\n",
    "    value_counts_2[i] = (count_dict[i]) \n",
    "\n",
    "keys_2 = list(value_counts_2.keys())\n",
    "values_2 = list(value_counts_2.values())\n",
    "\n",
    "plt.figure(figsize=(12,10))\n",
    "plt.plot(keys_2, values_2, color=\"red\")\n",
    "plt.xlabel(\"Years\")\n",
    "plt.xlim(1997,2023) #since the netflix was founded only in 1997\n",
    "plt.ylabel(\"Number of movies\")\n",
    "plt.title(\"Number of produced movies over years\")\n",
    "plt.show()"
   ]
  },
  {
   "cell_type": "markdown",
   "id": "ab22e4fc",
   "metadata": {},
   "source": [
    "### from 2000 to now"
   ]
  },
  {
   "cell_type": "code",
   "execution_count": 136,
   "id": "4ffb928d",
   "metadata": {},
   "outputs": [
    {
     "data": {
      "image/png": "[encoded data removed]",
      "text/plain": [
       "<Figure size 864x720 with 1 Axes>"
      ]
     },
     "metadata": {
      "needs_background": "light"
     },
     "output_type": "display_data"
    }
   ],
   "source": [
    "plt.figure(figsize=(12,10))\n",
    "plt.plot(keys_2, values_2, color=\"black\")\n",
    "plt.xlabel(\"Years\")\n",
    "plt.ylabel(\"Number of movies\")\n",
    "plt.xlim(2000,2022)\n",
    "plt.title(\"Number of produced movies over years\")\n",
    "plt.show()"
   ]
  },
  {
   "cell_type": "markdown",
   "id": "6e8e0c5d",
   "metadata": {},
   "source": [
    "## Rating system"
   ]
  },
  {
   "cell_type": "code",
   "execution_count": 137,
   "id": "ad1cb946",
   "metadata": {},
   "outputs": [
    {
     "data": {
      "image/png": "[encoded data removed]",
      "text/plain": [
       "<Figure size 864x576 with 1 Axes>"
      ]
     },
     "metadata": {
      "needs_background": "light"
     },
     "output_type": "display_data"
    }
   ],
   "source": [
    "rating_list = list(df[\"rating\"].unique())\n",
    "rating_list.remove(\"Unknown\")\n",
    "rating_count_dict = {}\n",
    "\n",
    "for rating in df[\"rating\"]:\n",
    "    if rating in rating_count_dict:\n",
    "        rating_count_dict[rating] += 1\n",
    "    elif rating != \"Unknown\":\n",
    "        rating_count_dict[rating] = 1\n",
    "keys_3 = rating_count_dict.keys()\n",
    "values_3 = rating_count_dict.values()\n",
    "\n",
    "plt.figure(figsize=(12,8))\n",
    "plt.bar(keys_3, values_3, color=\"red\", ec=\"black\")  \n",
    "plt.xticks(rotation=45)\n",
    "plt.ylabel(\"Number of movies\")\n",
    "plt.xlabel(\"Rating\")\n",
    "plt.title(\"Motion Picture Association film rating system\")\n",
    "plt.show()"
   ]
  },
  {
   "cell_type": "markdown",
   "id": "5c1c9c51",
   "metadata": {},
   "source": [
    "## Creating WordCloud with the most popular words in the titles"
   ]
  },
  {
   "cell_type": "code",
   "execution_count": 138,
   "id": "179f889d",
   "metadata": {},
   "outputs": [
    {
     "ename": "ValueError",
     "evalue": "Only supported for TrueType fonts",
     "output_type": "error",
     "traceback": [
      "\u001b[1;31m---------------------------------------------------------------------------\u001b[0m",
      "\u001b[1;31mValueError\u001b[0m                                Traceback (most recent call last)",
      "Input \u001b[1;32mIn [138]\u001b[0m, in \u001b[0;36m<cell line: 2>\u001b[1;34m()\u001b[0m\n\u001b[0;32m      1\u001b[0m title_text \u001b[38;5;241m=\u001b[39m \u001b[38;5;124m'\u001b[39m\u001b[38;5;124m \u001b[39m\u001b[38;5;124m'\u001b[39m\u001b[38;5;241m.\u001b[39mjoin(df[\u001b[38;5;124m'\u001b[39m\u001b[38;5;124mtitle\u001b[39m\u001b[38;5;124m'\u001b[39m]\u001b[38;5;241m.\u001b[39mdropna())\n\u001b[1;32m----> 2\u001b[0m wordcloud \u001b[38;5;241m=\u001b[39m \u001b[43mWordCloud\u001b[49m\u001b[43m(\u001b[49m\u001b[43mstopwords\u001b[49m\u001b[38;5;241;43m=\u001b[39;49m\u001b[43mSTOPWORDS\u001b[49m\u001b[43m,\u001b[49m\u001b[43m \u001b[49m\u001b[43mbackground_color\u001b[49m\u001b[38;5;241;43m=\u001b[39;49m\u001b[38;5;124;43m'\u001b[39;49m\u001b[38;5;124;43mwhite\u001b[39;49m\u001b[38;5;124;43m'\u001b[39;49m\u001b[43m,\u001b[49m\u001b[43m \u001b[49m\u001b[43mcolormap\u001b[49m\u001b[38;5;241;43m=\u001b[39;49m\u001b[38;5;124;43m\"\u001b[39;49m\u001b[38;5;124;43mReds\u001b[39;49m\u001b[38;5;124;43m\"\u001b[39;49m\u001b[43m,\u001b[49m\u001b[43m \u001b[49m\u001b[43mwidth\u001b[49m\u001b[38;5;241;43m=\u001b[39;49m\u001b[38;5;241;43m800\u001b[39;49m\u001b[43m,\u001b[49m\u001b[43m \u001b[49m\u001b[43mheight\u001b[49m\u001b[38;5;241;43m=\u001b[39;49m\u001b[38;5;241;43m400\u001b[39;49m\u001b[43m)\u001b[49m\u001b[38;5;241;43m.\u001b[39;49m\u001b[43mgenerate\u001b[49m\u001b[43m(\u001b[49m\u001b[43mtitle_text\u001b[49m\u001b[43m)\u001b[49m\n\u001b[0;32m      3\u001b[0m plt\u001b[38;5;241m.\u001b[39mfigure(figsize\u001b[38;5;241m=\u001b[39m(\u001b[38;5;241m12\u001b[39m,\u001b[38;5;241m10\u001b[39m))\n\u001b[0;32m      4\u001b[0m plt\u001b[38;5;241m.\u001b[39mimshow(wordcloud, interpolation\u001b[38;5;241m=\u001b[39m\u001b[38;5;124m'\u001b[39m\u001b[38;5;124mbilinear\u001b[39m\u001b[38;5;124m'\u001b[39m)\n",
      "File \u001b[1;32m~\\anaconda3\\lib\\site-packages\\wordcloud\\wordcloud.py:639\u001b[0m, in \u001b[0;36mWordCloud.generate\u001b[1;34m(self, text)\u001b[0m\n\u001b[0;32m    624\u001b[0m \u001b[38;5;28;01mdef\u001b[39;00m \u001b[38;5;21mgenerate\u001b[39m(\u001b[38;5;28mself\u001b[39m, text):\n\u001b[0;32m    625\u001b[0m     \u001b[38;5;124;03m\"\"\"Generate wordcloud from text.\u001b[39;00m\n\u001b[0;32m    626\u001b[0m \n\u001b[0;32m    627\u001b[0m \u001b[38;5;124;03m    The input \"text\" is expected to be a natural text. If you pass a sorted\u001b[39;00m\n\u001b[1;32m   (...)\u001b[0m\n\u001b[0;32m    637\u001b[0m \u001b[38;5;124;03m    self\u001b[39;00m\n\u001b[0;32m    638\u001b[0m \u001b[38;5;124;03m    \"\"\"\u001b[39;00m\n\u001b[1;32m--> 639\u001b[0m     \u001b[38;5;28;01mreturn\u001b[39;00m \u001b[38;5;28;43mself\u001b[39;49m\u001b[38;5;241;43m.\u001b[39;49m\u001b[43mgenerate_from_text\u001b[49m\u001b[43m(\u001b[49m\u001b[43mtext\u001b[49m\u001b[43m)\u001b[49m\n",
      "File \u001b[1;32m~\\anaconda3\\lib\\site-packages\\wordcloud\\wordcloud.py:621\u001b[0m, in \u001b[0;36mWordCloud.generate_from_text\u001b[1;34m(self, text)\u001b[0m\n\u001b[0;32m    604\u001b[0m \u001b[38;5;124;03m\"\"\"Generate wordcloud from text.\u001b[39;00m\n\u001b[0;32m    605\u001b[0m \n\u001b[0;32m    606\u001b[0m \u001b[38;5;124;03mThe input \"text\" is expected to be a natural text. If you pass a sorted\u001b[39;00m\n\u001b[1;32m   (...)\u001b[0m\n\u001b[0;32m    618\u001b[0m \u001b[38;5;124;03mself\u001b[39;00m\n\u001b[0;32m    619\u001b[0m \u001b[38;5;124;03m\"\"\"\u001b[39;00m\n\u001b[0;32m    620\u001b[0m words \u001b[38;5;241m=\u001b[39m \u001b[38;5;28mself\u001b[39m\u001b[38;5;241m.\u001b[39mprocess_text(text)\n\u001b[1;32m--> 621\u001b[0m \u001b[38;5;28;43mself\u001b[39;49m\u001b[38;5;241;43m.\u001b[39;49m\u001b[43mgenerate_from_frequencies\u001b[49m\u001b[43m(\u001b[49m\u001b[43mwords\u001b[49m\u001b[43m)\u001b[49m\n\u001b[0;32m    622\u001b[0m \u001b[38;5;28;01mreturn\u001b[39;00m \u001b[38;5;28mself\u001b[39m\n",
      "File \u001b[1;32m~\\anaconda3\\lib\\site-packages\\wordcloud\\wordcloud.py:453\u001b[0m, in \u001b[0;36mWordCloud.generate_from_frequencies\u001b[1;34m(self, frequencies, max_font_size)\u001b[0m\n\u001b[0;32m    451\u001b[0m     font_size \u001b[38;5;241m=\u001b[39m \u001b[38;5;28mself\u001b[39m\u001b[38;5;241m.\u001b[39mheight\n\u001b[0;32m    452\u001b[0m \u001b[38;5;28;01melse\u001b[39;00m:\n\u001b[1;32m--> 453\u001b[0m     \u001b[38;5;28;43mself\u001b[39;49m\u001b[38;5;241;43m.\u001b[39;49m\u001b[43mgenerate_from_frequencies\u001b[49m\u001b[43m(\u001b[49m\u001b[38;5;28;43mdict\u001b[39;49m\u001b[43m(\u001b[49m\u001b[43mfrequencies\u001b[49m\u001b[43m[\u001b[49m\u001b[43m:\u001b[49m\u001b[38;5;241;43m2\u001b[39;49m\u001b[43m]\u001b[49m\u001b[43m)\u001b[49m\u001b[43m,\u001b[49m\n\u001b[0;32m    454\u001b[0m \u001b[43m                                   \u001b[49m\u001b[43mmax_font_size\u001b[49m\u001b[38;5;241;43m=\u001b[39;49m\u001b[38;5;28;43mself\u001b[39;49m\u001b[38;5;241;43m.\u001b[39;49m\u001b[43mheight\u001b[49m\u001b[43m)\u001b[49m\n\u001b[0;32m    455\u001b[0m     \u001b[38;5;66;03m# find font sizes\u001b[39;00m\n\u001b[0;32m    456\u001b[0m     sizes \u001b[38;5;241m=\u001b[39m [x[\u001b[38;5;241m1\u001b[39m] \u001b[38;5;28;01mfor\u001b[39;00m x \u001b[38;5;129;01min\u001b[39;00m \u001b[38;5;28mself\u001b[39m\u001b[38;5;241m.\u001b[39mlayout_]\n",
      "File \u001b[1;32m~\\anaconda3\\lib\\site-packages\\wordcloud\\wordcloud.py:508\u001b[0m, in \u001b[0;36mWordCloud.generate_from_frequencies\u001b[1;34m(self, frequencies, max_font_size)\u001b[0m\n\u001b[0;32m    505\u001b[0m transposed_font \u001b[38;5;241m=\u001b[39m ImageFont\u001b[38;5;241m.\u001b[39mTransposedFont(\n\u001b[0;32m    506\u001b[0m     font, orientation\u001b[38;5;241m=\u001b[39morientation)\n\u001b[0;32m    507\u001b[0m \u001b[38;5;66;03m# get size of resulting text\u001b[39;00m\n\u001b[1;32m--> 508\u001b[0m box_size \u001b[38;5;241m=\u001b[39m \u001b[43mdraw\u001b[49m\u001b[38;5;241;43m.\u001b[39;49m\u001b[43mtextbbox\u001b[49m\u001b[43m(\u001b[49m\u001b[43m(\u001b[49m\u001b[38;5;241;43m0\u001b[39;49m\u001b[43m,\u001b[49m\u001b[43m \u001b[49m\u001b[38;5;241;43m0\u001b[39;49m\u001b[43m)\u001b[49m\u001b[43m,\u001b[49m\u001b[43m \u001b[49m\u001b[43mword\u001b[49m\u001b[43m,\u001b[49m\u001b[43m \u001b[49m\u001b[43mfont\u001b[49m\u001b[38;5;241;43m=\u001b[39;49m\u001b[43mtransposed_font\u001b[49m\u001b[43m,\u001b[49m\u001b[43m \u001b[49m\u001b[43manchor\u001b[49m\u001b[38;5;241;43m=\u001b[39;49m\u001b[38;5;124;43m\"\u001b[39;49m\u001b[38;5;124;43mlt\u001b[39;49m\u001b[38;5;124;43m\"\u001b[39;49m\u001b[43m)\u001b[49m\n\u001b[0;32m    509\u001b[0m \u001b[38;5;66;03m# find possible places using integral image:\u001b[39;00m\n\u001b[0;32m    510\u001b[0m result \u001b[38;5;241m=\u001b[39m occupancy\u001b[38;5;241m.\u001b[39msample_position(box_size[\u001b[38;5;241m3\u001b[39m] \u001b[38;5;241m+\u001b[39m \u001b[38;5;28mself\u001b[39m\u001b[38;5;241m.\u001b[39mmargin,\n\u001b[0;32m    511\u001b[0m                                    box_size[\u001b[38;5;241m2\u001b[39m] \u001b[38;5;241m+\u001b[39m \u001b[38;5;28mself\u001b[39m\u001b[38;5;241m.\u001b[39mmargin,\n\u001b[0;32m    512\u001b[0m                                    random_state)\n",
      "File \u001b[1;32m~\\anaconda3\\lib\\site-packages\\PIL\\ImageDraw.py:671\u001b[0m, in \u001b[0;36mImageDraw.textbbox\u001b[1;34m(self, xy, text, font, anchor, spacing, align, direction, features, language, stroke_width, embedded_color)\u001b[0m\n\u001b[0;32m    669\u001b[0m     font \u001b[38;5;241m=\u001b[39m \u001b[38;5;28mself\u001b[39m\u001b[38;5;241m.\u001b[39mgetfont()\n\u001b[0;32m    670\u001b[0m \u001b[38;5;28;01mif\u001b[39;00m \u001b[38;5;129;01mnot\u001b[39;00m \u001b[38;5;28misinstance\u001b[39m(font, ImageFont\u001b[38;5;241m.\u001b[39mFreeTypeFont):\n\u001b[1;32m--> 671\u001b[0m     \u001b[38;5;28;01mraise\u001b[39;00m \u001b[38;5;167;01mValueError\u001b[39;00m(\u001b[38;5;124m\"\u001b[39m\u001b[38;5;124mOnly supported for TrueType fonts\u001b[39m\u001b[38;5;124m\"\u001b[39m)\n\u001b[0;32m    672\u001b[0m mode \u001b[38;5;241m=\u001b[39m \u001b[38;5;124m\"\u001b[39m\u001b[38;5;124mRGBA\u001b[39m\u001b[38;5;124m\"\u001b[39m \u001b[38;5;28;01mif\u001b[39;00m embedded_color \u001b[38;5;28;01melse\u001b[39;00m \u001b[38;5;28mself\u001b[39m\u001b[38;5;241m.\u001b[39mfontmode\n\u001b[0;32m    673\u001b[0m bbox \u001b[38;5;241m=\u001b[39m font\u001b[38;5;241m.\u001b[39mgetbbox(\n\u001b[0;32m    674\u001b[0m     text, mode, direction, features, language, stroke_width, anchor\n\u001b[0;32m    675\u001b[0m )\n",
      "\u001b[1;31mValueError\u001b[0m: Only supported for TrueType fonts"
     ]
    }
   ],
   "source": [
    "title_text = ' '.join(df['title'].dropna())\n",
    "wordcloud = WordCloud(stopwords=STOPWORDS, background_color='white', colormap=\"Reds\", width=800, height=400).generate(title_text)\n",
    "plt.figure(figsize=(12,10))\n",
    "plt.imshow(wordcloud, interpolation='bilinear')\n",
    "plt.axis('off')\n",
    "plt.show()\n"
   ]
  },
  {
   "cell_type": "markdown",
   "id": "14823ff9",
   "metadata": {},
   "source": [
    "## Getting Top 10 directors (w/ number of movies)"
   ]
  },
  {
   "cell_type": "code",
   "execution_count": 139,
   "id": "1cb7f6b0",
   "metadata": {},
   "outputs": [
    {
     "data": {
      "image/png": "[encoded data removed]",
      "text/plain": [
       "<Figure size 864x576 with 1 Axes>"
      ]
     },
     "metadata": {
      "needs_background": "light"
     },
     "output_type": "display_data"
    }
   ],
   "source": [
    "director_counts = df[df[\"director\"]!=\"Unknown\"]['director'].value_counts()\n",
    "popular_directors=director_counts[director_counts>10]\n",
    "\n",
    "colormap=cm.ScalarMappable(cmap=cm.Reds)\n",
    "colormap.set_clim(popular_directors.min(), popular_directors.max())\n",
    "#color=colormap.to_rgba(popular_directors)\n",
    "plt.figure(figsize=(12,8))\n",
    "popular_directors.plot(kind='bar', color=colormap.to_rgba(popular_directors), ec=\"black\" )\n",
    "plt.title('Number of Movies Directed by Each Director (top 10 directors)')\n",
    "plt.xlabel('Director')\n",
    "plt.ylabel('Number of Movies')\n",
    "plt.xticks(rotation=45)\n",
    "plt.show()"
   ]
  },
  {
   "cell_type": "code",
   "execution_count": 140,
   "id": "6b8245f8",
   "metadata": {},
   "outputs": [],
   "source": [
    "# for colormap\n",
    "# viridis\n",
    "# plasma\n",
    "# inferno\n",
    "# magma\n",
    "# cividis\n",
    "# cool\n",
    "# hot\n",
    "# summer\n",
    "# spring\n",
    "# autumn\n",
    "# winter\n",
    "# Blues\n",
    "# Greens\n",
    "# Oranges\n",
    "# Purples\n",
    "# Reds\n",
    "# YlOrBr\n",
    "# YlGnBu"
   ]
  },
  {
   "cell_type": "markdown",
   "id": "5fe61836",
   "metadata": {},
   "source": [
    "## Duration distribution"
   ]
  },
  {
   "cell_type": "code",
   "execution_count": 141,
   "id": "a9e53d30",
   "metadata": {},
   "outputs": [
    {
     "data": {
      "image/png": "[encoded data removed]",
      "text/plain": [
       "<Figure size 864x576 with 1 Axes>"
      ]
     },
     "metadata": {
      "needs_background": "light"
     },
     "output_type": "display_data"
    }
   ],
   "source": [
    "duration_of_movies=df[df[\"Season/min\"]==\"min\"][\"Number duration\"]\n",
    "plt.figure(figsize=(12,8))\n",
    "plt.hist(duration_of_movies, bins=25, color=\"red\", ec=\"black\")\n",
    "plt.title(\"Duration Distribution\")\n",
    "plt.xlabel(\"Movie Duration\")\n",
    "plt.ylabel(\"Number of movies\")\n",
    "plt.show()"
   ]
  },
  {
   "cell_type": "code",
   "execution_count": null,
   "id": "6281bb75",
   "metadata": {},
   "outputs": [],
   "source": [
    "duration_of_tvshows=df[df[\"Season/min\"]==\"Seasons\"][\"Number duration\"]\n",
    "plt.figure(figsize=(12,8))\n",
    "plt.hist(duration_of_tvshows, bins=10, color=\"black\", ec=\"red\")\n",
    "plt.title(\"Duration Distribution\")\n",
    "plt.xlabel(\"TV Show Duration\")\n",
    "plt.ylabel(\"Number of TV Shows\")\n",
    "plt.show()"
   ]
  },
  {
   "cell_type": "markdown",
   "id": "fc29cbdf",
   "metadata": {},
   "source": [
    "## Avg movie duration over time"
   ]
  },
  {
   "cell_type": "code",
   "execution_count": null,
   "id": "ce4f4329",
   "metadata": {},
   "outputs": [],
   "source": [
    "df[df[\"Season/min\"]==\"min\"].groupby(df[\"release_year\"])[\"Number duration\"].agg([\"mean\", \"max\", \"min\"])\n",
    "mean_durations=df[df[\"Season/min\"]==\"min\"].groupby(df[\"release_year\"])[\"Number duration\"].mean()\n",
    "\n",
    "plt.figure(figsize=(12,8))\n",
    "plt.bar(mean_durations.index, mean_durations.values, color=\"white\", edgecolor=\"red\")\n",
    "plt.title('Average movie duration for each year')\n",
    "plt.xlabel('year')\n",
    "plt.ylabel('average movie duration')\n",
    "plt.show()"
   ]
  },
  {
   "cell_type": "markdown",
   "id": "4a612976",
   "metadata": {},
   "source": [
    "# Movies distribution among countries"
   ]
  },
  {
   "cell_type": "code",
   "execution_count": null,
   "id": "f6919b14",
   "metadata": {},
   "outputs": [],
   "source": [
    "countries_list = []\n",
    "for i in df[\"country\"]:\n",
    "    if \",\" in i:\n",
    "        a=str(i).split(sep = \",\")\n",
    "        list_a = list(a)\n",
    "        for b in a:\n",
    "            countries_list.append(b)\n",
    "    else:\n",
    "        countries_list.append(i)\n",
    "    \n",
    "new_countries_list =[x for x in countries_list if x != \"MISSING\" and x != \"\"]\n",
    "new_countries_list_2 = [x.strip() for x in new_countries_list]\n",
    "\n",
    "from collections import Counter\n",
    "\n",
    "country_counts = Counter(new_countries_list_2)\n",
    "country_counts_dict = dict(country_counts) \n",
    "countries = country_counts_dict.keys()\n",
    "n_of_movies_countries = country_counts_dict.values()"
   ]
  },
  {
   "cell_type": "code",
   "execution_count": null,
   "id": "cd0e729f",
   "metadata": {
    "scrolled": true
   },
   "outputs": [],
   "source": [
    "import json\n",
    "import folium\n",
    "\n",
    "geo_json_data = json.load(open('countries.geojson'))\n",
    "df_2 = pd.DataFrame({'Country': list(countries), 'Movie Count': list(n_of_movies_countries)})\n",
    "map = folium.Map(location=[37.0902, -95.7129], zoom_start=2)\n",
    "folium.Choropleth(\n",
    "    geo_data= geo_json_data,\n",
    "    name='choropleth',\n",
    "    data=df_2,\n",
    "    columns=['Country', 'Movie Count'],\n",
    "    key_on='properties.ADMIN',\n",
    "    fill_color='YlGn',\n",
    "    fill_opacity=0.7,\n",
    "    line_opacity=0.2,\n",
    "    legend_name='Number of Movies',\n",
    "    highlight=True\n",
    "    \n",
    ").add_to(map)\n",
    "\n",
    "folium.LayerControl().add_to(map)\n",
    "m = folium.Map(location=[0, 0], zoom_start=2, width=800, height=600)\n",
    "\n",
    "map"
   ]
  },
  {
   "cell_type": "markdown",
   "id": "2a0dd443",
   "metadata": {},
   "source": [
    "# NEW DATASET, IMDP Top 1000 movies"
   ]
  },
  {
   "cell_type": "code",
   "execution_count": null,
   "id": "0b8ccfb7",
   "metadata": {},
   "outputs": [],
   "source": [
    "df2"
   ]
  },
  {
   "cell_type": "markdown",
   "id": "4a23a96a",
   "metadata": {},
   "source": [
    "## Basic information"
   ]
  },
  {
   "cell_type": "code",
   "execution_count": null,
   "id": "43403714",
   "metadata": {},
   "outputs": [],
   "source": [
    "df2.isnull().sum()"
   ]
  },
  {
   "cell_type": "code",
   "execution_count": null,
   "id": "0fffda87",
   "metadata": {},
   "outputs": [],
   "source": [
    "df2.describe()"
   ]
  },
  {
   "cell_type": "code",
   "execution_count": null,
   "id": "036435aa",
   "metadata": {},
   "outputs": [],
   "source": [
    "df2.shape"
   ]
  },
  {
   "cell_type": "code",
   "execution_count": null,
   "id": "04332bd8",
   "metadata": {},
   "outputs": [],
   "source": [
    "df2.columns"
   ]
  },
  {
   "cell_type": "code",
   "execution_count": null,
   "id": "ea407289",
   "metadata": {},
   "outputs": [],
   "source": [
    "df2.count()"
   ]
  },
  {
   "cell_type": "code",
   "execution_count": null,
   "id": "8868991e",
   "metadata": {},
   "outputs": [],
   "source": [
    "df2.nunique()"
   ]
  },
  {
   "cell_type": "markdown",
   "id": "97b8527e",
   "metadata": {},
   "source": [
    "we will try to merge our two datasets, we will find which movies from our \"Netflix_Titles\" dataset have been in IMDB TOP 1000 movies, and then we will analyse this new dataset."
   ]
  },
  {
   "cell_type": "code",
   "execution_count": null,
   "id": "fad2a5af",
   "metadata": {},
   "outputs": [],
   "source": [
    "#vor poxenq series titley sarqenq title vor match ani myus dfi titlei het\n",
    "df2.columns=['Poster_Link', 'title', 'Released_Year', 'Certificate',\n",
    "       'Runtime', 'Genre', 'IMDB_Rating', 'Overview', 'Meta_score', 'Director',\n",
    "       'Star1', 'Star2', 'Star3', 'Star4', 'No_of_Votes', 'Gross']\n",
    "df2.columns"
   ]
  },
  {
   "cell_type": "code",
   "execution_count": null,
   "id": "888356b3",
   "metadata": {},
   "outputs": [],
   "source": [
    "merged_df = pd.merge(df, df2, on='title')\n",
    "merged_df"
   ]
  },
  {
   "cell_type": "code",
   "execution_count": null,
   "id": "f2154ebc",
   "metadata": {},
   "outputs": [],
   "source": [
    "merged_df.columns"
   ]
  },
  {
   "cell_type": "markdown",
   "id": "f47ba796",
   "metadata": {},
   "source": [
    "### We merged these datasets based on the movie title, but there have been cases when two different movies had the same title. We have removed those rows from our merged dataset and got a new dataset with 144 observations and 29 features (some of the features where repeatting, however we didn't delete them (apahovutyunic elnelov)"
   ]
  },
  {
   "cell_type": "code",
   "execution_count": null,
   "id": "3f754088",
   "metadata": {},
   "outputs": [],
   "source": [
    "sxal_director=merged_df[merged_df[\"director\"]!=merged_df[\"Director\"]]"
   ]
  },
  {
   "cell_type": "code",
   "execution_count": null,
   "id": "7866a991",
   "metadata": {},
   "outputs": [],
   "source": [
    "sxaltaridirectorov=sxal_director[sxal_director[\"release_year\"]!=sxal_director[\"Released_Year\"]]\n",
    "nor_data=sxaltaridirectorov[[\"director\", \"Director\", \"release_year\", \"Released_Year\"]]"
   ]
  },
  {
   "cell_type": "code",
   "execution_count": null,
   "id": "b78202f4",
   "metadata": {},
   "outputs": [],
   "source": [
    "len(sxaltaridirectorov)"
   ]
  },
  {
   "cell_type": "code",
   "execution_count": null,
   "id": "b606af08",
   "metadata": {},
   "outputs": [],
   "source": [
    "#sxal_director, sxaltaridirectorov & nor_data datasets have been used just for identifying wrong rows.\n",
    "#besides for this reason, they are not used in the notebook"
   ]
  },
  {
   "cell_type": "code",
   "execution_count": null,
   "id": "dcb877c0",
   "metadata": {},
   "outputs": [],
   "source": [
    "nor_data "
   ]
  },
  {
   "cell_type": "code",
   "execution_count": null,
   "id": "b9328749",
   "metadata": {},
   "outputs": [],
   "source": [
    "####COMMENTS for group members\n",
    "#codes idk xi chi normal ashxatel, directornery ka vor nuynn en bayc kaxvac greladzevic tarber a hashvel oka\n",
    "#baycc taretvery vrodi int en sagh chem jokum inchia orinak 2001=2001y sxal hamarel,\n",
    "#dzerqov arandzacrel em sxal kinonery (vor nuyn titley unen bayc tarber tarineri en release exel, taarber kinoner en\n",
    "#u drop em arel merged_df-ic u pahel netflix_top_imdb"
   ]
  },
  {
   "cell_type": "code",
   "execution_count": null,
   "id": "6cd6794e",
   "metadata": {},
   "outputs": [],
   "source": [
    "jnjelu_indexner=[15,37,41,42,44,45,49,50,52,56,58,59,66,69,71,74,75,81,83,86,121,130,145,148,149,154,156,167]\n",
    "netflix_top_imdb=merged_df.drop(jnjelu_indexner, axis=0)\n",
    "netflix_top_imdb[[\"release_year\", \"Released_Year\"]].tail(40)"
   ]
  },
  {
   "cell_type": "code",
   "execution_count": null,
   "id": "7e4d99d4",
   "metadata": {},
   "outputs": [],
   "source": [
    "netflix_top_imdb.shape"
   ]
  },
  {
   "cell_type": "markdown",
   "id": "d4fbd339",
   "metadata": {},
   "source": [
    "## Finding correlation between MetaScore and IMDB Rating"
   ]
  },
  {
   "cell_type": "code",
   "execution_count": null,
   "id": "978947e4",
   "metadata": {},
   "outputs": [],
   "source": [
    "meta_score=netflix_top_imdb[\"Meta_score\"]\n",
    "imdb_rating=netflix_top_imdb[\"IMDB_Rating\"]\n",
    "\n",
    "corr_coeff = round(meta_score.corr(imdb_rating), 2)\n",
    "print(f\"Correlation coefficient: {corr_coeff}\")\n",
    "print(\"There is a weak positive correlation between user and critic ratings.\")\n",
    "\n",
    "plt.figure(figsize=(12,8))\n",
    "sns.regplot(x=meta_score, y=imdb_rating, scatter=True, color='black', line_kws={\"color\": \"red\"})\n",
    "plt.xlabel(\"Meta Score\")\n",
    "plt.ylabel(\"IMDB Rating\")\n",
    "plt.title(\"Correlation between user ratings and critic reviews\")\n",
    "plt.show()\n",
    "\n"
   ]
  },
  {
   "cell_type": "code",
   "execution_count": null,
   "id": "316e9274",
   "metadata": {},
   "outputs": [],
   "source": [
    "# amenasirun guyny \n",
    "# sns.color_palette(\"cubehelix\", as_cmap=True)\n"
   ]
  },
  {
   "cell_type": "markdown",
   "id": "ac248f23",
   "metadata": {},
   "source": [
    "## correlation between number of votes and IMDB Rating"
   ]
  },
  {
   "cell_type": "code",
   "execution_count": null,
   "id": "1bc66ca3",
   "metadata": {},
   "outputs": [],
   "source": [
    "no_of_votes=netflix_top_imdb[\"No_of_Votes\"]\n",
    "imdb_rating=netflix_top_imdb[\"IMDB_Rating\"]\n",
    "\n",
    "corr_coeff = round(no_of_votes.corr(imdb_rating), 2)\n",
    "print(f\"Correlation coefficient: {corr_coeff}\")\n",
    "print(\"There is a weak positive correlation between user ratings and number of their votes.\")\n",
    "\n",
    "plt.figure(figsize=(12,8))\n",
    "sns.regplot(x=no_of_votes, y=imdb_rating, scatter=True, color='red', line_kws={\"color\": \"black\"})\n",
    "plt.xlabel(\"Number of votes\")\n",
    "plt.ylabel(\"IMDB Rating\")\n",
    "plt.title(\"Correlation between user ratings and number of votes\")\n",
    "plt.show()\n"
   ]
  },
  {
   "cell_type": "code",
   "execution_count": null,
   "id": "365b57ed",
   "metadata": {},
   "outputs": [],
   "source": [
    "netflix_top_imdb.columns"
   ]
  },
  {
   "cell_type": "markdown",
   "id": "36d36993",
   "metadata": {},
   "source": [
    "## Genre distribution (in netflix movies that are in IMDB  top 1000 movies list"
   ]
  },
  {
   "cell_type": "code",
   "execution_count": null,
   "id": "2c8a491d",
   "metadata": {},
   "outputs": [],
   "source": [
    "popular_genres = []\n",
    "for index, row in netflix_top_imdb.iterrows():\n",
    "    popular_genres.extend(row['Genre'].split(', '))\n",
    "\n",
    "\n",
    "genres_count = pd.Series(popular_genres).value_counts()\n",
    "\n",
    "plt.figure(figsize=(12,8))\n",
    "plt.bar(genres_count.index, genres_count.values, color=\"red\", ec=\"black\", linewidth=2)\n",
    "plt.xticks(rotation=45)\n",
    "plt.xlabel('genre')\n",
    "plt.ylabel('Number of movies')\n",
    "plt.title('Top genres in movies with top 1000 imdb ratings(poxela petq anuny)')\n",
    "plt.show()"
   ]
  },
  {
   "cell_type": "markdown",
   "id": "a920de6a",
   "metadata": {},
   "source": [
    "## Top 10 Actors (in netflix movies that are in IMDB  top 1000 movies list"
   ]
  },
  {
   "cell_type": "code",
   "execution_count": null,
   "id": "106e0885",
   "metadata": {},
   "outputs": [],
   "source": [
    "stars=netflix_top_imdb[[\"Star1\", \"Star2\", \"Star3\", \"Star4\"]]\n",
    "actors = []\n",
    "for index, row in stars.iterrows():\n",
    "    actors.append(row[\"Star1\"])\n",
    "    actors.append(row[\"Star2\"])\n",
    "    actors.append(row[\"Star3\"])\n",
    "    actors.append(row[\"Star4\"])\n",
    "\n",
    "\n",
    "actors_count = pd.Series(actors).value_counts()\n",
    "top_actor_count = actors_count[:10]\n",
    "\n",
    "plt.figure(figsize=(12,8))\n",
    "plt.barh(top_actor_count.index, top_actor_count.values, color=\"black\", ec=\"red\", linewidth=2)\n",
    "plt.xlabel(\"Number of movies\")\n",
    "plt.ylabel(\"Actors\")\n",
    "plt.yticks(fontsize=12)\n",
    "plt.title('Top 10 Actors whose movies are in top 1000 imdb ratings(poxela petq anuny)')\n",
    "plt.show()"
   ]
  },
  {
   "cell_type": "markdown",
   "id": "a1865416",
   "metadata": {},
   "source": [
    "## WordCloud of Actors' names"
   ]
  },
  {
   "cell_type": "code",
   "execution_count": null,
   "id": "2b3b7d38",
   "metadata": {},
   "outputs": [],
   "source": [
    "actors_array=np.array(actors)\n",
    "actors_array=np.char.replace(actors_array, \" \", \"\")\n",
    "\n",
    "\n",
    "plt.figure(figsize=(12,8))\n",
    "wordcloud = WordCloud(background_color='black', colormap=\"Reds\", width=800, height=400).generate(' '.join(actors_array))\n",
    "plt.imshow(wordcloud, interpolation='bilinear')\n",
    "plt.axis('off')\n",
    "plt.show()"
   ]
  },
  {
   "cell_type": "markdown",
   "id": "31ae5194",
   "metadata": {},
   "source": [
    "## Collaborations between Directors and actors."
   ]
  },
  {
   "cell_type": "code",
   "execution_count": null,
   "id": "1bae0994",
   "metadata": {
    "scrolled": true
   },
   "outputs": [],
   "source": [
    "import networkx as nx\n",
    "\n",
    "collab_df= netflix_top_imdb[[\"director\", \"Star1\", \"Star2\", \"Star3\", \"Star4\"]]\n",
    "directors = collab_df['director'].unique().tolist()\n",
    "actors = collab_df[['Star1', 'Star2', 'Star3', 'Star4']].values.flatten()\n",
    "actors = list(set([actor for actor in actors if pd.notna(actor)]))\n",
    "\n",
    "G = nx.Graph()\n",
    "G.add_nodes_from(directors, type='director')\n",
    "G.add_nodes_from(actors, type='actor')\n",
    "\n",
    "for index, row in collab_df.iterrows():\n",
    "    director = row['director']\n",
    "    for actor in row[['Star1', 'Star2', 'Star3', 'Star4']]:\n",
    "        if pd.notna(actor):\n",
    "            G.add_edge(director, actor)\n",
    "\n",
    "plt.figure(figsize=(50,50))\n",
    "\n",
    "pos = nx.spring_layout(G)\n",
    "nx.draw_networkx_nodes(G, pos, nodelist=directors, node_size=1000, node_color='red', alpha=0.8)\n",
    "nx.draw_networkx_nodes(G, pos, nodelist=actors, node_size=500, node_color='pink', alpha=0.8)\n",
    "nx.draw_networkx_edges(G, pos, width=1, alpha=0.3)\n",
    "nx.draw_networkx_labels(G, pos, font_size=10)\n",
    "plt.axis('off')\n",
    "plt.show()\n"
   ]
  },
  {
   "cell_type": "code",
   "execution_count": 94,
   "id": "d0c4cb19",
   "metadata": {},
   "outputs": [
    {
     "data": {
      "text/plain": [
       "(172, 29)"
      ]
     },
     "execution_count": 94,
     "metadata": {},
     "output_type": "execute_result"
    }
   ],
   "source": [
    "merged_df.shape"
   ]
  },
  {
   "cell_type": "code",
   "execution_count": null,
   "id": "5466988b",
   "metadata": {},
   "outputs": [],
   "source": []
  },
  {
   "cell_type": "markdown",
   "id": "58640a6c",
   "metadata": {},
   "source": [
    "## Grouping the movies based on their IMDB Rating"
   ]
  },
  {
   "cell_type": "code",
   "execution_count": 58,
   "id": "2c05b87c",
   "metadata": {},
   "outputs": [
    {
     "name": "stdout",
     "output_type": "stream",
     "text": [
      "Movies with IMDB rating 7.6:\n",
      "The Naked Gun: From the Files of Police Squad!) \n",
      "Blow) \n",
      "American Psycho) \n",
      "End of Watch) \n",
      "Seven Pounds) \n",
      "Philomena) \n",
      "Fear and Loathing in Las Vegas) \n",
      "Hell or High Water) \n",
      "The Florida Project) \n",
      "Stardust) \n",
      "50/50) \n",
      "Sherlock Holmes) \n",
      "Zombieland) \n",
      "\n",
      "\n",
      "Movies with IMDB rating 7.7:\n",
      "I Am Sam) \n",
      "The Social Network) \n",
      "Flipped) \n",
      "Wind River) \n",
      "The Machinist) \n",
      "Silver Linings Playbook) \n",
      "Zodiac) \n",
      "Training Day) \n",
      "Rebel Without a Cause) \n",
      "God's Own Country) \n",
      "Donnie Brasco) \n",
      "Crash) \n",
      "Coraline) \n",
      "Enter the Dragon) \n",
      "Ex Machina) \n",
      "Black Hawk Down) \n",
      "Billy Elliot) \n",
      "Beasts of No Nation) \n",
      "As Good as It Gets) \n",
      "Philadelphia) \n",
      "Primal Fear) \n",
      "The Theory of Everything) \n",
      "\n",
      "\n",
      "Movies with IMDB rating 7.8:\n",
      "Udta Punjab) \n",
      "What's Eating Gilbert Grape) \n",
      "My Fair Lady) \n",
      "The Trial of the Chicago 7) \n",
      "Willy Wonka & the Chocolate Factory) \n",
      "Bonnie and Clyde) \n",
      "How to Train Your Dragon 2) \n",
      "The Game) \n",
      "The Outlaw Josey Wales) \n",
      "The Hateful Eight) \n",
      "Ferris Bueller's Day Off) \n",
      "The Fighter) \n",
      "About Time) \n",
      "The Girl with the Dragon Tattoo) \n",
      "\n",
      "\n",
      "Movies with IMDB rating 7.9:\n",
      "Mystic River) \n",
      "Nightcrawler) \n",
      "Moon) \n",
      "Star Trek) \n",
      "The Artist) \n",
      "I, Daniel Blake) \n",
      "Captain Fantastic) \n",
      "Marriage Story) \n",
      "The Irishman) \n",
      "Jab We Met) \n",
      "Hunt for the Wilderpeople) \n",
      "Boogie Nights) \n",
      "District 9) \n",
      "Thor: Ragnarok) \n",
      "\n",
      "\n",
      "Movies with IMDB rating 8.0:\n",
      "Sling Blade) \n",
      "Casino Royale) \n",
      "Rosemary's Baby) \n",
      "Cat on a Hot Tin Roof) \n",
      "The Help) \n",
      "Her) \n",
      "The King's Speech) \n",
      "Dallas Buyers Club) \n",
      "The Pursuit of Happyness) \n",
      "Kill Bill: Vol. 2) \n",
      "Doctor Zhivago) \n",
      "The Perks of Being a Wallflower) \n",
      "Fiddler on the Roof) \n",
      "Short Term 12) \n",
      "Jaws) \n",
      "Dances with Wolves) \n",
      "Dev.D) \n",
      "Magnolia) \n",
      "Kal Ho Naa Ho) \n",
      "Rain Man) \n",
      "Do the Right Thing) \n",
      "Vizontele) \n",
      "\n",
      "\n",
      "Movies with IMDB rating 8.1:\n",
      "PK) \n",
      "Cool Hand Luke) \n",
      "Dil Chahta Hai) \n",
      "Barfi!) \n",
      "Haider) \n",
      "Kahaani) \n",
      "Catch Me If You Can) \n",
      "Pink) \n",
      "Trainspotting) \n",
      "Gran Torino) \n",
      "Zindagi Na Milegi Dobara) \n",
      "Platoon) \n",
      "Rush) \n",
      "Spotlight) \n",
      "Hachi: A Dog's Tale) \n",
      "Kill Bill: Vol. 1) \n",
      "Million Dollar Baby) \n",
      "Room) \n",
      "A Wednesday) \n",
      "Rocky) \n",
      "Into the Wild) \n",
      "\n",
      "\n",
      "Movies with IMDB rating 8.2:\n",
      "Pan's Labyrinth) \n",
      "Udaan) \n",
      "There Will Be Blood) \n",
      "Indiana Jones and the Last Crusade) \n",
      "Klaus) \n",
      "Andaz Apna Apna) \n",
      "Queen) \n",
      "Drishyam) \n",
      "Monty Python and the Holy Grail) \n",
      "Lock, Stock and Two Smoking Barrels) \n",
      "Paan Singh Tomar) \n",
      "Shutter Island) \n",
      "Raging Bull) \n",
      "Rang De Basanti) \n",
      "V for Vendetta) \n",
      "\n",
      "\n",
      "Movies with IMDB rating 8.3:\n",
      "Inglourious Basterds) \n",
      "Andhadhun) \n",
      "A Clockwork Orange) \n",
      "American Beauty) \n",
      "\n",
      "\n",
      "Movies with IMDB rating 8.4:\n",
      "The Lives of Others) \n",
      "Spider-Man: Into the Spider-Verse) \n",
      "3 Idiots) \n",
      "Taare Zameen Par) \n",
      "Django Unchained) \n",
      "Dangal) \n",
      "Avengers: Infinity War) \n",
      "Once Upon a Time in America) \n",
      "\n",
      "\n",
      "Movies with IMDB rating 8.5:\n",
      "American History X) \n",
      "The Pianist) \n",
      "The Intouchables) \n",
      "The Departed) \n",
      "Once Upon a Time in the West) \n",
      "\n",
      "\n",
      "Movies with IMDB rating 8.7:\n",
      "The Lord of the Rings: The Two Towers) \n",
      "The Matrix) \n",
      "\n",
      "\n",
      "Movies with IMDB rating 8.8:\n",
      "Inception) \n",
      "\n",
      "\n",
      "Movies with IMDB rating 8.9:\n",
      "Schindler's List) \n",
      "Pulp Fiction) \n",
      "The Lord of the Rings: The Return of the King) \n",
      "\n",
      "\n"
     ]
    }
   ],
   "source": [
    "groups=(netflix_top_imdb.sort_values('IMDB_Rating', ascending=False)).groupby([\"IMDB_Rating\"])\n",
    "for rating, group in groups:\n",
    "    print(f\"Movies with IMDB rating {rating}:\")\n",
    "    for i, row in group.iterrows():\n",
    "        print(f\"{row['title']}) \")\n",
    "    print(\"\\n\")"
   ]
  },
  {
   "cell_type": "markdown",
   "id": "dcb5588c",
   "metadata": {},
   "source": [
    "## Movie Recommendation System"
   ]
  },
  {
   "cell_type": "code",
   "execution_count": 98,
   "id": "77ac4f71",
   "metadata": {},
   "outputs": [
    {
     "name": "stdout",
     "output_type": "stream",
     "text": [
      "If you don't have particular preferences for any of those questions, please type 'skip'\n",
      "The type: Movie or Tv Show: Movie\n",
      "Preferred director's name: Mozez Singh\n",
      "Country: India\n",
      "The interval of years(e.g. 2010-2022): 2010-2022\n",
      "The interval of duration in minutes/seasons: 90-120\n"
     ]
    }
   ],
   "source": [
    "print(\"If you don't have particular preferences for any of those questions, please type 'skip'\")\n",
    "user_type = input(\"The type: Movie or Tv Show: \")\n",
    "user_dir = input(\"Preferred director's name: \")\n",
    "user_country = input(\"Country: \")\n",
    "user_year = input(\"The interval of years(e.g. 2010-2022): \")\n",
    "user_duration = input(\"The interval of duration in minutes/seasons: \")"
   ]
  },
  {
   "cell_type": "code",
   "execution_count": 228,
   "id": "2dedf736",
   "metadata": {},
   "outputs": [],
   "source": [
    "user_pref_list = [user_type, user_dir, user_country, user_year, user_duration]\n",
    "user_pref_list_valid = [i for i in user_pref_list if i != \"skip\"]\n",
    "length  = len(user_pref_list_valid)\n",
    "percentage_for_1 = 100/length\n",
    "df[\"percentage\"] = 0\n",
    "if user_pref_type != \"skip\":\n",
    "    type_matches = df[\"type\"] == user_pref_type\n",
    "    if any(type_matches):\n",
    "        df.loc[type_matches, \"percentage\"] += percentage_for_1\n",
    "        \n",
    "if user_dir != \"skip\":\n",
    "    type_matches = df[\"director\"] == user_dir\n",
    "    if any(type_matches):\n",
    "        df.loc[type_matches, \"percentage\"] += percentage_for_1\n",
    "    \n",
    "if user_country != \"skip\":\n",
    "    type_matches = df[\"country\"] == user_country\n",
    "    if any(type_matches):\n",
    "        df.loc[type_matches, \"percentage\"] += percentage_for_1\n",
    "        \n",
    "if user_year != \"skip\":\n",
    "    user_year = user_year.split(\"-\")\n",
    "    min_year = int(user_year[0])\n",
    "    max_year = int(user_year[1])\n",
    "    year_matches = (df[\"release_year\"] >= min_year) & (df[\"release_year\"] <= max_year)\n",
    "    if any(year_matches):\n",
    "        df.loc[year_matches, \"percentage\"] += percentage_for_1\n",
    "        \n",
    "if user_duration != \"skip\":\n",
    "    user_duration = user_duration.split(\"-\")\n",
    "    min_dur = int(user_duration[0])\n",
    "    max_dur = int(user_duration[1])\n",
    "    type_matches = (df[\"Number duration\"] >= min_dur) & (df[\"Number duration\"] <= max_dur)\n",
    "    if any(type_matches):\n",
    "        df.loc[type_matches, \"percentage\"] += percentage_for_1\n",
    "df_recommendation = df.sort_values(by='percentage', ascending = False)"
   ]
  },
  {
   "cell_type": "code",
   "execution_count": 241,
   "id": "f64a6ebe",
   "metadata": {},
   "outputs": [
    {
     "name": "stdout",
     "output_type": "stream",
     "text": [
      "The movie Zubaan corresponds to your search by 100 %\n",
      "The movie Manu corresponds to your search by 80 %\n",
      "The movie Sur Sapata corresponds to your search by 80 %\n",
      "The movie Teen Aur Aadha corresponds to your search by 80 %\n",
      "The movie Tanu Weds Manu corresponds to your search by 80 %\n",
      "The movie Muzaffarnagar Baaqi Hai corresponds to your search by 80 %\n",
      "The movie Life Ki Toh Lag Gayi corresponds to your search by 80 %\n",
      "The movie Deewana Main Deewana corresponds to your search by 80 %\n",
      "The movie Sometimes corresponds to your search by 80 %\n",
      "The movie Thackeray (Hindi) corresponds to your search by 80 %\n"
     ]
    }
   ],
   "source": [
    "df_subset = df[0:10]\n",
    "for i in df_subset[\"title\"]:\n",
    "    print(\"The movie\", i, \"corresponds to your search by\", df_subset[\"percentage\"][df_subset[\"title\"] == i].values[0], \"%\")"
   ]
  },
  {
   "cell_type": "code",
   "execution_count": null,
   "id": "9d1c65e5",
   "metadata": {},
   "outputs": [],
   "source": []
  }
 ],
 "metadata": {
  "kernelspec": {
   "display_name": "Python 3 (ipykernel)",
   "language": "python",
   "name": "python3"
  },
  "language_info": {
   "codemirror_mode": {
    "name": "ipython",
    "version": 3
   },
   "file_extension": ".py",
   "mimetype": "text/x-python",
   "name": "python",
   "nbconvert_exporter": "python",
   "pygments_lexer": "ipython3",
   "version": "3.9.7"
  }
 },
 "nbformat": 4,
 "nbformat_minor": 5
}
