{
 "cells": [
  {
   "cell_type": "markdown",
   "id": "3f0d0042",
   "metadata": {},
   "source": [
    "## CHEAT SHEET by ANochka NUMPY  / Part 1"
   ]
  },
  {
   "cell_type": "code",
   "execution_count": 229,
   "id": "574e8a99",
   "metadata": {},
   "outputs": [],
   "source": [
    "import numpy as np"
   ]
  },
  {
   "cell_type": "markdown",
   "id": "b1ad4c4a",
   "metadata": {},
   "source": [
    "## Numpy basics"
   ]
  },
  {
   "cell_type": "code",
   "execution_count": 127,
   "id": "bcca5b53",
   "metadata": {},
   "outputs": [],
   "source": [
    "a = np.array([1,2,3])\n",
    "b = np.array([(1.5,2,3), (4,5,6)], dtype = float)\n",
    "c = np.array([[(1.5,2,0), (4,9,6)], [(3,2,1), (4,5,6)]],\n",
    " dtype = float)"
   ]
  },
  {
   "cell_type": "code",
   "execution_count": 230,
   "id": "5507a5f0",
   "metadata": {},
   "outputs": [
    {
     "data": {
      "text/plain": [
       "0"
      ]
     },
     "execution_count": 230,
     "metadata": {},
     "output_type": "execute_result"
    }
   ],
   "source": [
    "#Create an array of zeros\n",
    "np.zeros((3,4))\n",
    "#Create an array of ones\n",
    "np.ones((2,3,4),dtype=np.int16)\n",
    "#Create an array of evenly spaced values (step value)\n",
    "d = np.arange(10,25,5)\n",
    "#Create an array of evenly spaced values (number of samples)\n",
    "np.linspace(0,2,9)\n",
    "#Create a constant array\n",
    "e = np.full((3,2),7)\n",
    "#Create a 3X3 identity matrix\n",
    "f = np.eye(3)\n",
    "#Create an array with random values\n",
    "np.random.random((2,2))\n",
    "#Create an empty array\n",
    "np.empty((3,2))\n",
    "0"
   ]
  },
  {
   "cell_type": "markdown",
   "id": "fe157243",
   "metadata": {},
   "source": [
    "### Data Types"
   ]
  },
  {
   "cell_type": "code",
   "execution_count": 47,
   "id": "59926f2f",
   "metadata": {},
   "outputs": [],
   "source": [
    "# np.int64 ----- Signed 64-bit integer types\n",
    "# np.float32 ------Standard double-precision floating point\n",
    "# np.complex -------Complex numbers represented by 128 floats\n",
    "# np.bool ------Boolean type storing TRUE and FALSE values\n",
    "# np.object -------- Python object type\n",
    "# np.string_ ------ Fixed-length string type\n",
    "# np.unicode_ ------ Fixed-length unicode type"
   ]
  },
  {
   "cell_type": "markdown",
   "id": "1b20ca27",
   "metadata": {},
   "source": [
    "### Inspecting an array"
   ]
  },
  {
   "cell_type": "code",
   "execution_count": 231,
   "id": "7533a4a1",
   "metadata": {},
   "outputs": [
    {
     "data": {
      "text/plain": [
       "0"
      ]
     },
     "execution_count": 231,
     "metadata": {},
     "output_type": "execute_result"
    }
   ],
   "source": [
    "# Array dimensions\n",
    "a.shape\n",
    "# Length of array\n",
    "len(a)\n",
    "# Number of array dimensions\n",
    "b.ndim\n",
    "# Number of array elements\n",
    "e.size\n",
    "# Data type of array elements\n",
    "b.dtype\n",
    "# Name of data type\n",
    "b.dtype.name\n",
    "# Convert an array to a different\n",
    "b.astype(int)\n",
    "0"
   ]
  },
  {
   "cell_type": "markdown",
   "id": "67581f43",
   "metadata": {},
   "source": [
    "### Arythmetic Operations"
   ]
  },
  {
   "cell_type": "code",
   "execution_count": 232,
   "id": "28474c28",
   "metadata": {},
   "outputs": [
    {
     "data": {
      "text/plain": [
       "0"
      ]
     },
     "execution_count": 232,
     "metadata": {},
     "output_type": "execute_result"
    }
   ],
   "source": [
    "#subtraction\n",
    "g=a-b\n",
    "np.subtract(a,b)\n",
    "np.add(a,b)\n",
    "np.divide(a,b)\n",
    "np.multiply(a,b)\n",
    "np.exp(b)\n",
    "np.sqrt(b)\n",
    "np.sin(a) \n",
    "np.cos(b) \n",
    "np.log(a) \n",
    "np.dot(f, 3)\n",
    "0"
   ]
  },
  {
   "cell_type": "markdown",
   "id": "7a1657a2",
   "metadata": {},
   "source": [
    "### Aggregate Functions"
   ]
  },
  {
   "cell_type": "code",
   "execution_count": 233,
   "id": "2508fe3a",
   "metadata": {},
   "outputs": [
    {
     "data": {
      "text/plain": [
       "0"
      ]
     },
     "execution_count": 233,
     "metadata": {},
     "output_type": "execute_result"
    }
   ],
   "source": [
    "a.sum() \n",
    "a.min()\n",
    "b.max(axis=0) #max row\n",
    "b.max(axis=1) #max column\n",
    "b.cumsum(axis=1) #idk incha\n",
    "a.mean() \n",
    "np.std(b)\n",
    "0"
   ]
  },
  {
   "cell_type": "markdown",
   "id": "fbe7cef1",
   "metadata": {},
   "source": [
    "### Copying Arrays"
   ]
  },
  {
   "cell_type": "code",
   "execution_count": 179,
   "id": "df5fe583",
   "metadata": {},
   "outputs": [],
   "source": [
    "# Create a view of the array with the same data\n",
    "h = a.view()\n",
    "# Create a copy of the array\n",
    "np.copy(a) \n",
    "# Create a deep copy of the arra\n",
    "h = a.copy() "
   ]
  },
  {
   "cell_type": "markdown",
   "id": "8d32d458",
   "metadata": {},
   "source": [
    "### Sorting Arrays"
   ]
  },
  {
   "cell_type": "code",
   "execution_count": 137,
   "id": "ee1063fb",
   "metadata": {},
   "outputs": [
    {
     "data": {
      "text/plain": [
       "0"
      ]
     },
     "execution_count": 137,
     "metadata": {},
     "output_type": "execute_result"
    }
   ],
   "source": [
    "#Sort an array\n",
    "test=np.array([1,2,3,10, 0, -52])\n",
    "test_sorted=np.sort(test)\n",
    "# Sort the elements of an array's axis\n",
    "np.sort(c, axis=0)\n",
    "0"
   ]
  },
  {
   "cell_type": "markdown",
   "id": "54b68908",
   "metadata": {},
   "source": [
    "### Subsetting, Slicing, Indexing"
   ]
  },
  {
   "cell_type": "code",
   "execution_count": 234,
   "id": "eaabf385",
   "metadata": {},
   "outputs": [
    {
     "name": "stdout",
     "output_type": "stream",
     "text": [
      "[[1.5 2.  3. ]\n",
      " [4.  5.  6. ]]\n"
     ]
    },
    {
     "data": {
      "text/plain": [
       "0"
      ]
     },
     "execution_count": 234,
     "metadata": {},
     "output_type": "execute_result"
    }
   ],
   "source": [
    "# subsetting\n",
    "a[2] #Select the element at the 2nd index\n",
    "b[1,2] # Select the element at row 1 column 2 (equivalent to b[1][2])\n",
    "\n",
    "# slicing\n",
    "a[0:2] # Select items at index 0 and 1\n",
    "b[0:2, 1] # Select items at rows 0 and 1 in column 1\n",
    "b[:1] # Select all items at row 0 (equivalent to b[0:1, :])\n",
    "c[1,...] # Same as [1,:,:]\n",
    "a[ : :-1] # Reversed array a\n",
    "\n",
    "# Boolean Indexing\n",
    "a[a<2] # Select elements from a less than 2\n",
    "print(b)\n",
    "\n",
    "# Fancy indexing\n",
    "b[[1, 0, 1, 0],[0, 1, 2, 0]] #Select elements (1,0),(0,1),(1,2) and (0,0)\n",
    "b[[1, 0, 1, 0]][:,[0,1,2,0]] #Select a subset of the matrix’s rows and columns #CHGITEM ES MEKY\n",
    "0"
   ]
  },
  {
   "cell_type": "markdown",
   "id": "8e7126d5",
   "metadata": {},
   "source": [
    "## Array Manipulation"
   ]
  },
  {
   "cell_type": "code",
   "execution_count": 186,
   "id": "236b0e42",
   "metadata": {},
   "outputs": [],
   "source": [
    "# Transposing array\n",
    "i = np.transpose(b) #permute array dimensions\n",
    "#print(b)\n",
    "#print(i)\n",
    "\n",
    "# Changing Array Shape\n",
    "b.ravel() # flatten the array\n",
    "g.reshape(3,2) # reshape() does not changes the original array but only returns the changed array\n",
    "h.resize((3,1)) # resize() method returns nothing and directly changes the original array"
   ]
  },
  {
   "cell_type": "markdown",
   "id": "e4511804",
   "metadata": {},
   "source": [
    "### Adding/Removing Ellements"
   ]
  },
  {
   "cell_type": "code",
   "execution_count": 238,
   "id": "20ee1e0d",
   "metadata": {},
   "outputs": [
    {
     "data": {
      "text/plain": [
       "0"
      ]
     },
     "execution_count": 238,
     "metadata": {},
     "output_type": "execute_result"
    }
   ],
   "source": [
    "np.append(h,g) # Append items to an array\n",
    "np.insert(a, 1, 5) # Insert items in an array\n",
    "np.delete(a, [1])  # Delete items from an array\n",
    "0"
   ]
  },
  {
   "cell_type": "markdown",
   "id": "2981379f",
   "metadata": {},
   "source": [
    "### Combining Arrays"
   ]
  },
  {
   "cell_type": "code",
   "execution_count": 219,
   "id": "1822fcee",
   "metadata": {},
   "outputs": [
    {
     "data": {
      "text/plain": [
       "0"
      ]
     },
     "execution_count": 219,
     "metadata": {},
     "output_type": "execute_result"
    }
   ],
   "source": [
    "np.concatenate((a, d), axis=0) # Concatenate arrays array([ 1, 2, 3, 10, 15, 20])\n",
    "np.vstack((a,b)) #Stack arrays vertically (row-wise)\n",
    "np.hstack((e,f))  # Stack arrays horizontally (column-wise)\n",
    "0"
   ]
  },
  {
   "cell_type": "markdown",
   "id": "57d5bdc7",
   "metadata": {},
   "source": [
    "### Splitting Arrays "
   ]
  },
  {
   "cell_type": "code",
   "execution_count": 228,
   "id": "8f59dae9",
   "metadata": {},
   "outputs": [
    {
     "data": {
      "text/plain": [
       "0"
      ]
     },
     "execution_count": 228,
     "metadata": {},
     "output_type": "execute_result"
    }
   ],
   "source": [
    "k=np.array([0,1,2,2,4,5,6,8,9])\n",
    "np.hsplit(k, 3) # Split an array into multiple sub-arrays of equal size (horizontally)\n",
    "np.vsplit(c, 2) # split vertically\n",
    "0"
   ]
  },
  {
   "cell_type": "code",
   "execution_count": null,
   "id": "95cc5514",
   "metadata": {},
   "outputs": [],
   "source": []
  }
 ],
 "metadata": {
  "kernelspec": {
   "display_name": "Python 3 (ipykernel)",
   "language": "python",
   "name": "python3"
  },
  "language_info": {
   "codemirror_mode": {
    "name": "ipython",
    "version": 3
   },
   "file_extension": ".py",
   "mimetype": "text/x-python",
   "name": "python",
   "nbconvert_exporter": "python",
   "pygments_lexer": "ipython3",
   "version": "3.9.7"
  }
 },
 "nbformat": 4,
 "nbformat_minor": 5
}
