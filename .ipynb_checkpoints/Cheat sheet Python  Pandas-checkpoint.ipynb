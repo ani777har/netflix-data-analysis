{
 "cells": [
  {
   "cell_type": "markdown",
   "id": "54a6950b",
   "metadata": {},
   "source": [
    "## CHEAT SHEET by ANochka PANDAS  / Part 2\n"
   ]
  },
  {
   "cell_type": "code",
   "execution_count": 6,
   "id": "1d6c9b66",
   "metadata": {},
   "outputs": [],
   "source": [
    "import numpy as np\n",
    "import matplotlib.pyplot as plt\n",
    "import pandas as pd"
   ]
  },
  {
   "cell_type": "markdown",
   "id": "d867e052",
   "metadata": {},
   "source": [
    "### read a file"
   ]
  },
  {
   "cell_type": "code",
   "execution_count": 7,
   "id": "e12a38a5",
   "metadata": {},
   "outputs": [],
   "source": [
    "#df = pd.read_csv('file.csv') "
   ]
  },
  {
   "cell_type": "markdown",
   "id": "50bcf55b",
   "metadata": {},
   "source": [
    "### Data in Series then combine into a DataFrame\n"
   ]
  },
  {
   "cell_type": "code",
   "execution_count": 8,
   "id": "05136c90",
   "metadata": {},
   "outputs": [],
   "source": [
    "# Example 1 ...\n",
    "s1 = pd.Series(range(6))\n",
    "s2 = s1 * s1\n",
    "s2.index = s2.index + 2 # misalign indexes\n",
    "df1 = pd.concat([s1, s2], axis=1)\n",
    "\n",
    "# Example 2 ...\n",
    "s3 = pd.Series({'Tom':1, 'John':4, 'Har':9})\n",
    "s4 = pd.Series({'Tom':3, 'John':2, 'Mar':5})\n",
    "df3 = pd.concat({'A':s3, 'B':s4 }, axis=1)\n"
   ]
  },
  {
   "cell_type": "markdown",
   "id": "f20ee4dc",
   "metadata": {},
   "source": [
    "### Get a DataFrame from a Python Dictionary"
   ]
  },
  {
   "cell_type": "code",
   "execution_count": 9,
   "id": "73ad2a90",
   "metadata": {},
   "outputs": [],
   "source": [
    "# default --- assume data is in columns\n",
    "df_a = pd.DataFrame({\n",
    " 'col0' : [1.0, 2.0, 3.0, 4.0],\n",
    " 'col1' : [100, 200, 300, 400]\n",
    " }) \n",
    "#print(df_a)\n",
    "# --- use helper method for data in rows\n",
    "df_b  = pd.DataFrame.from_dict({ # data by row\n",
    " # rows as python dictionaries\n",
    " 'row0' : {'col0':0, 'col1':'A'},\n",
    " 'row1' : {'col0':1, 'col1':'B'}\n",
    " }, orient='index')\n",
    "#print(df_b)\n",
    "df_c = pd.DataFrame.from_dict({ # data by row\n",
    " # rows as python lists\n",
    " 'row0' : [1, 1+1j, 'A'],\n",
    " 'row1' : [2, 2+2j, 'B']\n",
    " }, orient='index')\n",
    "#print(df_c)"
   ]
  },
  {
   "cell_type": "markdown",
   "id": "947aad2a",
   "metadata": {},
   "source": [
    "### Working with the WHOLE DATAFRAME"
   ]
  },
  {
   "cell_type": "markdown",
   "id": "4505266b",
   "metadata": {},
   "source": [
    "###  > Peek at the DataFrame contents/structure"
   ]
  },
  {
   "cell_type": "code",
   "execution_count": 24,
   "id": "15463cbf",
   "metadata": {},
   "outputs": [],
   "source": [
    "#df3.info() # index & data types\n",
    "dfh = df3.head(2) # get first i rows\n",
    "dft = df3.tail(2) # get last i rows\n",
    "dfs = df3.describe() # summary stats cols\n",
    "top_left_corner_df = df3.iloc[:4, :4] \n"
   ]
  },
  {
   "cell_type": "markdown",
   "id": "2b1373c1",
   "metadata": {},
   "source": [
    "### > DataFrame non-indexing attributes \n"
   ]
  },
  {
   "cell_type": "code",
   "execution_count": 44,
   "id": "46370957",
   "metadata": {},
   "outputs": [],
   "source": [
    "df = df3.T # transpose rows and cols\n",
    "l = df3.axes # list row and col indexes\n",
    "(r_idx, c_idx) = df3.axes # from above\n",
    "s = df3.dtypes # Series column data types\n",
    "b = df3.empty # True for empty DataFrame\n",
    "i = df3.ndim # number of axes (it is 2)\n",
    "t = df3.shape # (row-count, column-count)\n",
    "q = df3.size # row-count * column-count\n",
    "a = df3.values # get a numpy array for df "
   ]
  },
  {
   "cell_type": "markdown",
   "id": "59b2343d",
   "metadata": {},
   "source": [
    "### > DataFrame utility methods"
   ]
  },
  {
   "cell_type": "code",
   "execution_count": 47,
   "id": "a463ac9b",
   "metadata": {},
   "outputs": [
    {
     "data": {
      "text/html": [
       "<div>\n",
       "<style scoped>\n",
       "    .dataframe tbody tr th:only-of-type {\n",
       "        vertical-align: middle;\n",
       "    }\n",
       "\n",
       "    .dataframe tbody tr th {\n",
       "        vertical-align: top;\n",
       "    }\n",
       "\n",
       "    .dataframe thead th {\n",
       "        text-align: right;\n",
       "    }\n",
       "</style>\n",
       "<table border=\"1\" class=\"dataframe\">\n",
       "  <thead>\n",
       "    <tr style=\"text-align: right;\">\n",
       "      <th></th>\n",
       "      <th>Tom</th>\n",
       "      <th>John</th>\n",
       "      <th>Har</th>\n",
       "      <th>Mar</th>\n",
       "    </tr>\n",
       "  </thead>\n",
       "  <tbody>\n",
       "    <tr>\n",
       "      <th>A</th>\n",
       "      <td>1.0</td>\n",
       "      <td>4.0</td>\n",
       "      <td>9.0</td>\n",
       "      <td>NaN</td>\n",
       "    </tr>\n",
       "    <tr>\n",
       "      <th>B</th>\n",
       "      <td>3.0</td>\n",
       "      <td>2.0</td>\n",
       "      <td>NaN</td>\n",
       "      <td>5.0</td>\n",
       "    </tr>\n",
       "  </tbody>\n",
       "</table>\n",
       "</div>"
      ],
      "text/plain": [
       "   Tom  John  Har  Mar\n",
       "A  1.0   4.0  9.0  NaN\n",
       "B  3.0   2.0  NaN  5.0"
      ]
     },
     "execution_count": 47,
     "metadata": {},
     "output_type": "execute_result"
    }
   ],
   "source": [
    "df.copy() # copy a DataFrame\n",
    "df.rank() # rank each col (default)\n",
    "#df.sort_values(by=col)\n",
    "#df.sort_values(by=[col1, col2])\n",
    "df.sort_index()\n",
    "#df.astype(dtype) # type conversion"
   ]
  },
  {
   "cell_type": "code",
   "execution_count": null,
   "id": "29cde5d6",
   "metadata": {},
   "outputs": [],
   "source": []
  }
 ],
 "metadata": {
  "kernelspec": {
   "display_name": "Python 3 (ipykernel)",
   "language": "python",
   "name": "python3"
  },
  "language_info": {
   "codemirror_mode": {
    "name": "ipython",
    "version": 3
   },
   "file_extension": ".py",
   "mimetype": "text/x-python",
   "name": "python",
   "nbconvert_exporter": "python",
   "pygments_lexer": "ipython3",
   "version": "3.9.7"
  }
 },
 "nbformat": 4,
 "nbformat_minor": 5
}
