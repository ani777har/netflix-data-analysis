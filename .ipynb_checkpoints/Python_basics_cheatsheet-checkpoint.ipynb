{
 "cells": [
  {
   "cell_type": "markdown",
   "id": "a710f2f9",
   "metadata": {},
   "source": [
    "### Lists"
   ]
  },
  {
   "cell_type": "code",
   "execution_count": 1,
   "id": "2965f8eb",
   "metadata": {},
   "outputs": [],
   "source": [
    "L1=[1,2,3]\n",
    "L2=[4,5,6]\n",
    "L1.extend([7,8,9]) #to extend the list\n",
    "#or\n",
    "L1.extend(L2)\n",
    "\n",
    "del(L2[0]) #to delete elements (with index)\n",
    "L1.pop() #removes the last element and returns it\n",
    "L1.remove(5) #removes a specific value (multiple occurences - deletes the 1st one)\n"
   ]
  },
  {
   "cell_type": "code",
   "execution_count": 2,
   "id": "f96b80a8",
   "metadata": {},
   "outputs": [
    {
     "data": {
      "text/plain": [
       "[6, 0, 4, 6, 0, 4, 6, 0, 4]"
      ]
     },
     "execution_count": 2,
     "metadata": {},
     "output_type": "execute_result"
    }
   ],
   "source": [
    "L1.sort() #Listy poxuma ira mej sorta anum\n",
    "L=[4, 8, 0, 4, 6]\n",
    "sorted(L) #Listy mnuma nuyny, ete inchvor bani assign chanenq\n",
    "L.reverse() #to reverse the list L=[6, 4, 0, 8, 4]\n",
    "\n",
    "#slicing\n",
    "L[0::2]*3 # 3 times [L[0], L[0+2], L[0+2+2]]=[6,0,4]*3=[6,0,4,6,0,4,6,0,4]\n"
   ]
  },
  {
   "cell_type": "markdown",
   "id": "8020ce6a",
   "metadata": {},
   "source": [
    "### mutable vs immutable"
   ]
  },
  {
   "cell_type": "code",
   "execution_count": 3,
   "id": "30608ff8",
   "metadata": {},
   "outputs": [],
   "source": [
    "#Mutable objects:\n",
    "#list, dict, set, byte array\n",
    "\n",
    "#Immutable objects:\n",
    "#int, float, complex, string, tuple, frozen set [note: immutable version of set], bytes"
   ]
  },
  {
   "cell_type": "markdown",
   "id": "f65ca59c",
   "metadata": {},
   "source": [
    "### Tuples"
   ]
  },
  {
   "cell_type": "code",
   "execution_count": 4,
   "id": "eb731c73",
   "metadata": {},
   "outputs": [
    {
     "data": {
      "text/plain": [
       "(1, 4, 2, 10, 0)"
      ]
     },
     "execution_count": 4,
     "metadata": {},
     "output_type": "execute_result"
    }
   ],
   "source": [
    "t1=(1,)\n",
    "t1+=(4, 2, 10, 0)\n",
    "t1"
   ]
  },
  {
   "cell_type": "markdown",
   "id": "8d2ad929",
   "metadata": {},
   "source": [
    "### Strings"
   ]
  },
  {
   "cell_type": "code",
   "execution_count": 5,
   "id": "538e3998",
   "metadata": {},
   "outputs": [],
   "source": [
    "#To have a long text as a string, you may need for a lot of new lines - instead of \\n, use ”’ or ”””"
   ]
  },
  {
   "cell_type": "code",
   "execution_count": 6,
   "id": "552457c3",
   "metadata": {},
   "outputs": [],
   "source": [
    "str1=\"Life is like a box of chocolates\"\n",
    "str1[3] # e\n",
    "str1[1:8:2] # start stop step \"iei \"\n",
    "str1[-1].upper() #verjin charactery mecatar \"S\"\n",
    "str1.strip() #probelnery verjic skzbic jnjuma\n",
    "str1.replace(\"chocolate\", \"muffin\") # 1-inchn enq uzum poxel, 2- inchov enq uzum poxel\n",
    "str1.split() # returns list, split arac yst inchi uzenq, by default probelov kam orinak .split(\",\")\n",
    "str2=\"Of course.\"\n",
    "str3=str1+str2"
   ]
  },
  {
   "cell_type": "code",
   "execution_count": 7,
   "id": "891e776f",
   "metadata": {},
   "outputs": [
    {
     "data": {
      "text/plain": [
       "'She is 19 years old.'"
      ]
     },
     "execution_count": 7,
     "metadata": {},
     "output_type": "execute_result"
    }
   ],
   "source": [
    "#Formatting\n",
    "n=19\n",
    "f\" She is {n} years old.\" \n",
    "#OR\n",
    "\"She is {} years old.\".format(n) #1in tarberaky aveli lavna"
   ]
  },
  {
   "cell_type": "markdown",
   "id": "104a4778",
   "metadata": {},
   "source": [
    "### Sets"
   ]
  },
  {
   "cell_type": "code",
   "execution_count": 8,
   "id": "4a37f912",
   "metadata": {},
   "outputs": [
    {
     "data": {
      "text/plain": [
       "{10, 100, 20, 3, 32, 4, 56, 9, 'alo', 'n'}"
      ]
     },
     "execution_count": 8,
     "metadata": {},
     "output_type": "execute_result"
    }
   ],
   "source": [
    "set1={2, 3, 9, 10, 32}\n",
    "set1.add(4)\n",
    "set1.update(\"ani\") #eli add a anum, mejiny petqa iterable object lini - tuple, list, string, set\n",
    "set1.update({20, 56})\n",
    "set1.remove(\"i\") # will raise an error if element does not exist\n",
    "set1.discard(\"m\") #will remain unchanged if element does not exist\n",
    "set2={\"a\", 2, 100, \"alo\"}\n",
    "\n",
    "set1 | set2 # union\n",
    "set1 & set2 # intersection\n",
    "set1-set2 #difference\n",
    "set1 ^ set2 #symmetric difference"
   ]
  },
  {
   "cell_type": "code",
   "execution_count": 9,
   "id": "25301297",
   "metadata": {},
   "outputs": [
    {
     "data": {
      "text/plain": [
       "True"
      ]
     },
     "execution_count": 9,
     "metadata": {},
     "output_type": "execute_result"
    }
   ],
   "source": [
    "set3={2, 3}\n",
    "set1.isdisjoint(set2) #False\n",
    "set1.issubset(set3) #False\n",
    "set1.issuperset(set3) #True"
   ]
  },
  {
   "cell_type": "markdown",
   "id": "51811dff",
   "metadata": {},
   "source": [
    "### Dictionary"
   ]
  },
  {
   "cell_type": "code",
   "execution_count": 10,
   "id": "d02fbb02",
   "metadata": {},
   "outputs": [
    {
     "data": {
      "text/plain": [
       "dict_items([('Anna', 98), ('Mari', 76), ('Nane', 38)])"
      ]
     },
     "execution_count": 10,
     "metadata": {},
     "output_type": "execute_result"
    }
   ],
   "source": [
    "dict1={\"Anna\":98, \"Mari\":76, \"Nane\":38}\n",
    "dict1.values() #98, 76, 38\n",
    "dict1.keys() #Anna, Mari, Nane\n",
    "dict1.items() #both\n"
   ]
  },
  {
   "cell_type": "code",
   "execution_count": 11,
   "id": "b33397a7",
   "metadata": {},
   "outputs": [],
   "source": [
    "#Equality operators\n",
    "\n",
    "# is−same identity\n",
    "# is not−different identity\n",
    "# ==−equivalent\n",
    "# !=−not equivalent\n",
    "\n",
    "# s[j], s[start :stop], s[start :stop :step], s +t, k ∗s, val in s, val not in s"
   ]
  },
  {
   "cell_type": "markdown",
   "id": "17bd4ac9",
   "metadata": {},
   "source": [
    "### Loops"
   ]
  },
  {
   "cell_type": "code",
   "execution_count": 12,
   "id": "550d274a",
   "metadata": {},
   "outputs": [],
   "source": [
    "for i in range(3, 14, 3):  #start stope step\n",
    "    i+1"
   ]
  },
  {
   "cell_type": "code",
   "execution_count": 13,
   "id": "b0562b51",
   "metadata": {},
   "outputs": [],
   "source": [
    "# break - terminates the loop (most immediatelyenclosing loop) containing it.\n",
    "# continue - skips the remaining code inside loop body for current iteration only.\n",
    "# pass - does nothing, used when a statement is required, but there is no code to be run"
   ]
  },
  {
   "cell_type": "code",
   "execution_count": 14,
   "id": "5a9034ec",
   "metadata": {},
   "outputs": [
    {
     "data": {
      "text/plain": [
       "[4, 16, 36]"
      ]
     },
     "execution_count": 14,
     "metadata": {},
     "output_type": "execute_result"
    }
   ],
   "source": [
    "#list comprehension\n",
    "list_a=[x**2 for x in range(1,8) if x%2==0]\n",
    "list_a"
   ]
  },
  {
   "cell_type": "code",
   "execution_count": 15,
   "id": "32908cab",
   "metadata": {},
   "outputs": [
    {
     "data": {
      "text/plain": [
       "[False, False, True]"
      ]
     },
     "execution_count": 15,
     "metadata": {},
     "output_type": "execute_result"
    }
   ],
   "source": [
    "list(filter((lambda x: x%3), list_a)) #[4, 16]\n",
    "list(map((lambda x: x%3), list_a)) #[1, 1, 0]\n",
    "list(map((lambda x: x%3==0), list_a)) # [False, False, True]"
   ]
  },
  {
   "cell_type": "markdown",
   "id": "c887b1ca",
   "metadata": {},
   "source": [
    "### Reading a file\n"
   ]
  },
  {
   "cell_type": "code",
   "execution_count": 16,
   "id": "689f1e69",
   "metadata": {},
   "outputs": [
    {
     "name": "stdout",
     "output_type": "stream",
     "text": [
      "barev dzez hargeli herustaditox\n",
      "eterum e ove uzum chein spasum intelektual gitahetazotakan serialy\n",
      "xndrum enq mnal kapi mej\n",
      "kapi verj\n",
      "chmok chmok\n",
      "pok pok\n",
      "pokemon\n",
      " u du indznic heru, lqvac es nana na\n",
      "u du indznic heru, lqvac es nana na\n",
      "u du indznic heru, lqvac es nana na\n",
      "u du indznic heru, lqvac es nana na\n"
     ]
    }
   ],
   "source": [
    "#open()i mej filei anunn enq grum, withy nra hamar a vor ashxateluc heto paki filey, aveli safe a qan close()ov\n",
    "with open(\"test_for_basics.txt\", \"a\") as file_object:\n",
    "    file_object.write(\"\\nu du indznic heru, lqvac es nana na\")\n",
    "#read()y amenaverjum empty string a talis, dra hamar annum enq rstrip()\n",
    "with open(\"test_for_basics.txt\") as file_object:\n",
    "    content=file_object.read()\n",
    "    print(content)\n"
   ]
  },
  {
   "cell_type": "code",
   "execution_count": 17,
   "id": "15172071",
   "metadata": {},
   "outputs": [],
   "source": [
    "#relative paths - relative path from your current code-file location\n",
    "#example: with open(’text files/filename.txt’) as file object:\n",
    "\n",
    "#absolute paths - path no matter where the running code file is, full path in the computer\n",
    "# example (for ubuntu/mac or windows): file path =’/home/ehmatthes/other files/text files/filename.txt’\n"
   ]
  },
  {
   "cell_type": "code",
   "execution_count": 18,
   "id": "e4211da6",
   "metadata": {},
   "outputs": [],
   "source": [
    "# read mode ’r’, default\n",
    "# write mode ’w’, (does not keep old file content)\n",
    "# append mode ’a’\n",
    "# read and write mode ’r+’"
   ]
  },
  {
   "cell_type": "markdown",
   "id": "294eba0c",
   "metadata": {},
   "source": [
    "### Exceptions"
   ]
  },
  {
   "cell_type": "code",
   "execution_count": 19,
   "id": "8dbd1e6b",
   "metadata": {},
   "outputs": [
    {
     "name": "stdout",
     "output_type": "stream",
     "text": [
      "input n0\n",
      "not allowed\n"
     ]
    }
   ],
   "source": [
    "n=int(input(\"input n\"))\n",
    "try:\n",
    "    5/n\n",
    "except ZeroDivisionError:\n",
    "    print(\"not allowed\")"
   ]
  },
  {
   "cell_type": "code",
   "execution_count": 20,
   "id": "2fd7b7bd",
   "metadata": {},
   "outputs": [],
   "source": [
    "try:\n",
    "    with open(\"text.txt\") as  filen:\n",
    "        print(hello)\n",
    "except FileNotFoundError:\n",
    "    pass"
   ]
  },
  {
   "cell_type": "markdown",
   "id": "c9877542",
   "metadata": {},
   "source": [
    "### JSON File"
   ]
  },
  {
   "cell_type": "code",
   "execution_count": 21,
   "id": "0e8f2ac1",
   "metadata": {},
   "outputs": [
    {
     "data": {
      "text/plain": [
       "{'Anna': 98, 'Mari': 76, 'Nane': 38}"
      ]
     },
     "execution_count": 21,
     "metadata": {},
     "output_type": "execute_result"
    }
   ],
   "source": [
    "import json\n",
    "with open(\"filename.json\", \"w\") as fjs:\n",
    "    json.dump(dict1, fjs)\n",
    "with open(\"filename.json\") as fjs:\n",
    "    tata=json.load(fjs)\n",
    "tata"
   ]
  },
  {
   "cell_type": "code",
   "execution_count": 22,
   "id": "d7dd2677",
   "metadata": {},
   "outputs": [
    {
     "data": {
      "text/plain": [
       "{'Anna': 98, 'Mari': 76, 'Nane': 38}"
      ]
     },
     "execution_count": 22,
     "metadata": {},
     "output_type": "execute_result"
    }
   ],
   "source": [
    "dict1"
   ]
  },
  {
   "cell_type": "code",
   "execution_count": 23,
   "id": "69cecb01",
   "metadata": {},
   "outputs": [
    {
     "name": "stdout",
     "output_type": "stream",
     "text": [
      "input nameani\n"
     ]
    }
   ],
   "source": [
    "dict_names={}\n",
    "with open(\"names.json\", \"w\") as nmf:\n",
    "    json.dump(dict_names, nmf)\n",
    "name=input(\"input name\")\n",
    "with open(\"names.json\", \"r+\") as nmf:\n",
    "    newname=json.load(nmf)\n",
    "    if name in newname:\n",
    "        print(\"Welcome\")\n",
    "    else:\n",
    "        newname[\"name1\"]=name\n",
    "        json.dump(newname, nmf)\n"
   ]
  },
  {
   "cell_type": "code",
   "execution_count": null,
   "id": "3f5f9c9d",
   "metadata": {},
   "outputs": [],
   "source": []
  },
  {
   "cell_type": "code",
   "execution_count": null,
   "id": "9a662829",
   "metadata": {},
   "outputs": [],
   "source": []
  }
 ],
 "metadata": {
  "kernelspec": {
   "display_name": "Python 3 (ipykernel)",
   "language": "python",
   "name": "python3"
  },
  "language_info": {
   "codemirror_mode": {
    "name": "ipython",
    "version": 3
   },
   "file_extension": ".py",
   "mimetype": "text/x-python",
   "name": "python",
   "nbconvert_exporter": "python",
   "pygments_lexer": "ipython3",
   "version": "3.9.7"
  }
 },
 "nbformat": 4,
 "nbformat_minor": 5
}
