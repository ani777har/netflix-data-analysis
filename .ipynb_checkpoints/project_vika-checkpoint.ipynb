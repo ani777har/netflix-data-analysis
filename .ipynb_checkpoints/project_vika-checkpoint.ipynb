{
 "cells": [
  {
   "cell_type": "code",
   "execution_count": null,
   "id": "197f01aa",
   "metadata": {},
   "outputs": [],
   "source": [
    "import numpy as np\n",
    "import pandas as pd\n",
    "import seaborn as sns\n",
    "import matplotlib.pyplot as plt\n",
    "df = pd.read_csv(\"./netflix_titles.csv\")\n",
    "df"
   ]
  },
  {
   "cell_type": "code",
   "execution_count": null,
   "id": "c26d7f5a",
   "metadata": {},
   "outputs": [],
   "source": [
    "print(f\" null sum - show_id: {df.show_id.isnull().sum()}\")\n",
    "print(f\" null sum - type: {df.type.isnull().sum()}\")\n",
    "print(f\" null sum - title: {df.title.isnull().sum()}\")\n",
    "print(f\" null sum - director: {df.director.isnull().sum()}\")\n",
    "print(f\" null sum - cast: {df.cast.isnull().sum()}\")\n",
    "print(f\" null sum - country: {df.country.isnull().sum()}\")\n",
    "print(f\" null sum - date_added: {df.date_added.isnull().sum()}\")\n",
    "print(f\" null sum - release_year: {df.release_year.isnull().sum()}\")\n",
    "print(f\" null sum - rating: {df.rating.isnull().sum()}\")\n",
    "print(f\" null sum - duration: {df.duration.isnull().sum()}\")\n",
    "print(f\" null sum - listed_in: {df.listed_in.isnull().sum()}\")\n",
    "print(f\" null sum - description: {df.description.isnull().sum()}\")"
   ]
  },
  {
   "cell_type": "code",
   "execution_count": null,
   "id": "cae2424b",
   "metadata": {},
   "outputs": [],
   "source": [
    "df[\"country\"].fillna(\"MISSING\", inplace=True)\n",
    "df[\"duration\"].fillna(\"0 min\", inplace=True)\n",
    "df[\"director\"].fillna(\"Unknown\", inplace=True)\n",
    "df[\"cast\"].fillna(\"Unknown\", inplace=True)\n",
    "df[\"date_added\"].fillna(\"Unknown\", inplace=True)\n",
    "df[\"rating\"].fillna(\"Unknown\", inplace=True)\n",
    "df[\"duration\"].fillna(\"Unknown\", inplace=True)\n",
    "df\n",
    "\n",
    "#no Nan values are left in this dataset"
   ]
  },
  {
   "cell_type": "code",
   "execution_count": null,
   "id": "ddefb4c2",
   "metadata": {},
   "outputs": [],
   "source": [
    "print(df[\"type\"].unique()) #here we see that there are only two types: Movie and TV show\n",
    "df_movies = df[df[\"type\"] == \"Movie\"]\n",
    "df_series = df[df[\"type\"] == \"TV Show\"]"
   ]
  },
  {
   "cell_type": "code",
   "execution_count": null,
   "id": "73ae8cc3",
   "metadata": {},
   "outputs": [],
   "source": [
    "df_movies.value_counts()\n",
    "n_of_movies_and_tv_series = df[\"title\"].nunique()\n",
    "n_of_movies =  df_movies[\"title\"].count()\n",
    "n_of_shows = df_series[\"title\"].count()\n",
    "print(f\"There are {n_of_movies} movies and {n_of_shows} TV shows in our dataset\")\n",
    "#that means that netflix produced more movies than TV shows\n",
    "n_of_movies_and_tv_series"
   ]
  },
  {
   "cell_type": "code",
   "execution_count": null,
   "id": "e41f8ff1",
   "metadata": {},
   "outputs": [],
   "source": [
    "count_dict = {}\n",
    "\n",
    "for year in df[\"release_year\"]:\n",
    "    if year in count_dict:\n",
    "        count_dict[year] += 1\n",
    "    else:\n",
    "        count_dict[year] = 1\n",
    "#print(count_dict)\n",
    "\n",
    "max_n = max(count_dict.values())\n",
    "min_n = min(count_dict.values())\n",
    "list_of_min = []\n",
    "list_of_max = []\n",
    "for i in count_dict.keys():\n",
    "    if count_dict[i] == max_n:\n",
    "        list_of_max.append(i)\n",
    "        \n",
    "    if count_dict[i] == min_n:\n",
    "        list_of_min.append(i)\n",
    "        \n",
    "print(f\"{list_of_max} is/are the year(s) when Netflix produced maximum number of films/series\")\n",
    "print(f\"{list_of_min} is/are the year(s) when Netflix produced minimum number of films/series\")"
   ]
  },
  {
   "cell_type": "code",
   "execution_count": null,
   "id": "dc3bfd12",
   "metadata": {},
   "outputs": [],
   "source": [
    "#to split duration column (integer+min/season)\n",
    "l_num_dur=list() \n",
    "l_seas_min=list()\n",
    "for i in df[\"duration\"]:\n",
    "    num_dur=int(i.split()[0]) #to get the integer value\n",
    "    w_dur=i.split()[1] #to get the word Seasons/min\n",
    "    l_num_dur.append(num_dur) #will add the numerical value of duration\n",
    "    l_seas_min.append(w_dur) #will add either Seasons or min\n",
    "df[\"Number duration\"]=l_num_dur\n",
    "df[\"Season/min\"]=l_seas_min\n",
    "mean_minutes = df[\"Number duration\"][df[\"type\"] == \"Movie\"].mean()\n",
    "mean_season = df[\"Number duration\"][df[\"type\"] == \"TV Show\"].mean()\n",
    "print(f\"The average number of minutes in movies is {mean_minutes}\")\n",
    "print(f\"The average number of seasons in TV shows is {mean_season}\")"
   ]
  },
  {
   "cell_type": "code",
   "execution_count": null,
   "id": "47963d72",
   "metadata": {},
   "outputs": [],
   "source": [
    "#print(count_dict)\n",
    "keys = list(count_dict.keys())\n",
    "keys.sort()\n",
    "#print(keys)\n",
    "value_counts_2 = {}\n",
    "for i in keys:\n",
    "    value_counts_2[i] = (count_dict[i]) \n",
    "#print(value_counts_2)\n",
    "\n",
    "keys_2 = list(value_counts_2.keys())\n",
    "values_2 = list(value_counts_2.values())\n",
    "print(keys_2, values_2)"
   ]
  },
  {
   "cell_type": "code",
   "execution_count": null,
   "id": "98e08dd5",
   "metadata": {},
   "outputs": [],
   "source": [
    "plt.plot(keys_2, values_2)\n",
    "plt.xlabel(\"Years\")\n",
    "plt.ylabel(\"Number of movies\")"
   ]
  },
  {
   "cell_type": "code",
   "execution_count": null,
   "id": "6f552039",
   "metadata": {},
   "outputs": [],
   "source": [
    "plt.plot(keys_2, values_2)\n",
    "plt.xlabel(\"Years\")\n",
    "plt.ylabel(\"Number of movies\")\n",
    "plt.xlim(2000,)"
   ]
  },
  {
   "cell_type": "code",
   "execution_count": null,
   "id": "e04e5be5",
   "metadata": {},
   "outputs": [],
   "source": [
    "df.loc[df[\"rating\"]==\"74 min\", \"duration\"]=\"74 min\"\n",
    "df.loc[df[\"rating\"]==\"84 min\", \"duration\"]=\"84 min\"\n",
    "df.loc[df[\"rating\"]==\"66 min\", \"duration\"]=\"66 min\"\n",
    "df.loc[df[\"rating\"]==\"74 min\", \"rating\"]=\"Unknown\"\n",
    "df.loc[df[\"rating\"]==\"84 min\", \"rating\"]=\"Unknown\"\n",
    "df.loc[df[\"rating\"]==\"66 min\", \"rating\"]=\"Unknown\""
   ]
  },
  {
   "cell_type": "code",
   "execution_count": null,
   "id": "1e3793ec",
   "metadata": {},
   "outputs": [],
   "source": [
    "rating_list = list(df[\"rating\"].unique())\n",
    "rating_list.remove(\"Unknown\")\n",
    "rating_count_dict = {}\n",
    "\n",
    "for rating in df[\"rating\"]:\n",
    "    if rating in rating_count_dict:\n",
    "        rating_count_dict[rating] += 1\n",
    "    elif rating != \"Unknown\":\n",
    "        rating_count_dict[rating] = 1\n",
    "keys_3 = rating_count_dict.keys()\n",
    "values_3 = rating_count_dict.values()\n",
    "\n",
    "plt.bar(keys_3, values_3)  \n",
    "plt.xticks(rotation=45)\n",
    "\n",
    "plt.show()"
   ]
  },
  {
   "cell_type": "code",
   "execution_count": null,
   "id": "6604ee50",
   "metadata": {},
   "outputs": [],
   "source": [
    "df"
   ]
  },
  {
   "cell_type": "code",
   "execution_count": null,
   "id": "075e1ea7",
   "metadata": {},
   "outputs": [],
   "source": []
  },
  {
   "cell_type": "code",
   "execution_count": null,
   "id": "1f32eb59",
   "metadata": {},
   "outputs": [],
   "source": [
    "#print(country_counts)\n",
    "countries_list = []\n",
    "for i in df[\"country\"]:\n",
    "    if \",\" in i:\n",
    "      # print(i)\n",
    "        a=str(i).split(sep = \",\")\n",
    "        list_a = list(a)\n",
    "        for b in a:\n",
    "            countries_list.append(b)\n",
    "    else:\n",
    "        countries_list.append(i)\n",
    "    \n",
    "#print(countries_list)\n",
    "new_countries_list =[x for x in countries_list if x != \"MISSING\" and x != \"\"]\n",
    "new_countries_list_2 = [x.strip() for x in new_countries_list]\n",
    "\n",
    "#print(new_countries_list)\n",
    "from collections import Counter\n",
    "country_counts = Counter(new_countries_list_2)\n",
    "country_counts #petk kga\n",
    "country_counts_dict = dict(country_counts) \n",
    "countries = country_counts_dict.keys()\n",
    "n_of_movies_countries = country_counts_dict.values()"
   ]
  },
  {
   "cell_type": "code",
   "execution_count": null,
   "id": "9330210d",
   "metadata": {},
   "outputs": [],
   "source": [
    "import json\n",
    "import folium\n",
    "\n",
    "geo_json_data = json.load(open('countries.geojson'))\n",
    "df_2 = pd.DataFrame({'Country': list(countries), 'Movie Count': list(n_of_movies_countries)})\n",
    "map = folium.Map(location=[37.0902, -95.7129], zoom_start=2)\n",
    "folium.Choropleth(\n",
    "    geo_data= geo_json_data,\n",
    "    name='choropleth',\n",
    "    data=df_2,\n",
    "    columns=['Country', 'Movie Count'],\n",
    "    key_on='properties.ADMIN',\n",
    "    fill_color='YlGn',\n",
    "    fill_opacity=0.7,\n",
    "    line_opacity=0.2,\n",
    "    legend_name='Number of Movies',\n",
    "    highlight=True\n",
    "    \n",
    ").add_to(map)\n",
    "\n",
    "# Add a layer control to the map\n",
    "folium.LayerControl().add_to(map)\n",
    "m = folium.Map(location=[0, 0], zoom_start=2, width=800, height=600)\n",
    "\n",
    "# Display the map\n",
    "map"
   ]
  },
  {
   "cell_type": "code",
   "execution_count": null,
   "id": "6267d825",
   "metadata": {},
   "outputs": [],
   "source": [
    "from collections import Counter\n",
    "country_counts = Counter(new_countries_list)\n",
    "country_counts #petk kga"
   ]
  },
  {
   "cell_type": "code",
   "execution_count": null,
   "id": "270716b8",
   "metadata": {},
   "outputs": [],
   "source": [
    "labels = ['Movies', 'TV Shows']\n",
    "values = [percentage_movies, percentage_tvshows]\n",
    "\n",
    "percentage_movies = (n_of_movies / n_of_movies_and_tv_series) * 100\n",
    "percentage_tvshows =  (n_of_shows / n_of_movies_and_tv_series) * 100\n",
    "\n",
    "# Create pie chart\n",
    "plt.pie(values, colors = colors, autopct='%1.1f%%', textprops={'fontsize': 14})\n",
    "colors = ['#ff9999', '#66b3ff', '#99ff99']\n",
    "\n",
    "# Add title\n",
    "plt.title('Movies and TV Shows')\n",
    "plt.legend(loc='upper right', labels=labels)\n",
    "\n",
    "# Show chart\n",
    "plt.show() "
   ]
  },
  {
   "cell_type": "code",
   "execution_count": null,
   "id": "17172df0",
   "metadata": {},
   "outputs": [],
   "source": []
  },
  {
   "cell_type": "code",
   "execution_count": null,
   "id": "66df2231",
   "metadata": {},
   "outputs": [],
   "source": []
  }
 ],
 "metadata": {
  "kernelspec": {
   "display_name": "Python 3 (ipykernel)",
   "language": "python",
   "name": "python3"
  },
  "language_info": {
   "codemirror_mode": {
    "name": "ipython",
    "version": 3
   },
   "file_extension": ".py",
   "mimetype": "text/x-python",
   "name": "python",
   "nbconvert_exporter": "python",
   "pygments_lexer": "ipython3",
   "version": "3.9.7"
  }
 },
 "nbformat": 4,
 "nbformat_minor": 5
}
